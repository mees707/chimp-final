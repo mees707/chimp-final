{
 "cells": [
  {
   "cell_type": "code",
   "execution_count": 26,
   "metadata": {
    "collapsed": true,
    "pycharm": {
     "name": "#%%\n"
    }
   },
   "outputs": [
    {
     "name": "stdout",
     "output_type": "stream",
     "text": [
      "Reading all .csv files, this can take a while...\n",
      "\n",
      "Preparing DataFrames...\n"
     ]
    },
    {
     "name": "stderr",
     "output_type": "stream",
     "text": [
      "100%|██████████| 264/264 [00:56<00:00,  4.66it/s]\n"
     ]
    },
    {
     "name": "stdout",
     "output_type": "stream",
     "text": [
      "\n",
      "Ranking data\n"
     ]
    },
    {
     "name": "stderr",
     "output_type": "stream",
     "text": [
      "100%|██████████| 264/264 [00:09<00:00, 28.07it/s]"
     ]
    },
    {
     "name": "stdout",
     "output_type": "stream",
     "text": [
      "Done\n"
     ]
    },
    {
     "name": "stderr",
     "output_type": "stream",
     "text": [
      "\n"
     ]
    }
   ],
   "source": [
    "# takes multiple csv files containing SPAT messages as an input from folder called input.\n",
    "# and gives 'seq_G2R_output.csv' as output file in the Output folder\n",
    "# the output file contains a ranking of every signal group of the input\n",
    "# and its performance data based on green to red predictions\n",
    "\n",
    "# these libraries are necessary\n",
    "import pandas as pd\n",
    "import numpy as np\n",
    "import warnings\n",
    "from tqdm import tqdm\n",
    "import glob\n",
    "import os\n",
    "\n",
    "\n",
    "warnings.filterwarnings('ignore')\n",
    "\n",
    "# get current path\n",
    "# path = os.path.dirname(os.path.realpath(__file__)) + \"/\" + \"input\"\n",
    "\n",
    "print('Reading all .csv files, this can take a while...')\n",
    "\n",
    "# get all csv files in current path\n",
    "# all_files = glob.glob(os.path.join(path, \"*.csv\"))\n",
    "\n",
    "# # concatenate all data and load as dataframe\n",
    "# df_from_each_file = (pd.read_csv(f) for f in tqdm(all_files))\n",
    "# df = pd.concat(df_from_each_file, ignore_index=True)\n",
    "\n",
    "df = pd.read_csv('input/data_sorted.csv')\n",
    "\n",
    "# filtering out useless data\n",
    "df = df[df.state != 'unavailable']\n",
    "df = df[df.state != 'caution-Conflicting-Traffic']\n",
    "\n",
    "# convert to datetime format\n",
    "df['received_timestamp'] = pd.to_datetime(df['received_timestamp'], unit='ms')\n",
    "df['state_timestamp'] = pd.to_datetime(df['state_timestamp'], unit='ms')\n",
    "df['state_end_min'] = pd.to_datetime(df['state_end_min'], unit='ms')\n",
    "df['state_end_max'] = pd.to_datetime(df['state_end_max'], unit='ms')\n",
    "df['state_end_likely'] = pd.to_datetime(df['state_end_likely'], unit='ms')\n",
    "df = df.sort_values(by=\"state_timestamp\")\n",
    "df = df.drop_duplicates()\n",
    "\n",
    "# grouping of signalgroups\n",
    "signalgroups = [d for _, d in df.groupby('id')]\n",
    "\n",
    "# resetting index\n",
    "signalgroups = [d.reset_index() for d in signalgroups]\n",
    "\n",
    "\n",
    "# tijd function makes a new column containing the timestamp of the next sequence change\n",
    "def tijd(signalgroup):\n",
    "\n",
    "    # make dataframe with a new interval each row\n",
    "    df1 = signalgroup.loc[(signalgroup.ischanged == True)]\n",
    "\n",
    "    # create real time column and fill timestamps inbetween\n",
    "    df1['time_s'] = np.nan\n",
    "    df1[\"time_shift\"] = df1[\"state_timestamp\"].shift(-1).replace()\n",
    "    signalgroup['time_s'] = np.nan\n",
    "    signalgroup.loc[df1.index,'time_s'] = df1['time_shift']\n",
    "    signalgroup['time_s'] = signalgroup['time_s'].fillna(method='ffill')\n",
    "    signalgroup['time_s'] = pd.to_datetime(signalgroup['time_s'])\n",
    "\n",
    "    # check that the sequence time is not later than the state timestamp\n",
    "    signalgroup['difference'] = (signalgroup['time_s'] - signalgroup['state_timestamp']).dt.total_seconds()\n",
    "    signalgroup.drop(signalgroup[signalgroup.difference < 0].index, inplace=True)\n",
    "    signalgroup.drop('difference', axis = 1, inplace=True)\n",
    "    return signalgroup\n",
    "\n",
    "print()\n",
    "print(\"Preparing DataFrames...\")\n",
    "# creating dataframes per signalgroup\n",
    "signals = ['permissive-clearance',\n",
    "           'caution-Conflicting-Traffic',\n",
    "           'protected-Movement-Allowed',\n",
    "           'permissive-Movement-Allowed',\n",
    "           'pre-Movement',\n",
    "           'protected-clearance']\n",
    "\n",
    "id_list = []\n",
    "groups = []\n",
    "minmaxgroups = []\n",
    "for signalgroup in tqdm(signalgroups):\n",
    "    # make a list with all signal group IDs for later use\n",
    "    id_list.append(signalgroup['id'].to_list()[0])\n",
    "\n",
    "    # change all state values to \"green\" and \"red\"\n",
    "    signalgroup['state'] = np.where(signalgroup['state'].isin(signals), \"green\", \"red\")\n",
    "\n",
    "    # shift the states to search for sequences\n",
    "    signalgroup[\"ischanged\"] = signalgroup[\n",
    "                                   \"state\"\n",
    "                               ].shift(1, fill_value=signalgroup[\"state\"].head(1)) != signalgroup[\"state\"]\n",
    "\n",
    "    # put every signalgroup through the tijd() function\n",
    "    signalgroup = tijd(signalgroup)\n",
    "    minmax = signalgroup\n",
    "    minmaxgroups.append(minmax)\n",
    "\n",
    "    # drop all row with no state_end_likely and create column indicating new sequence\n",
    "    signalgroup = signalgroup.dropna(subset=['state_end_likely'])\n",
    "    signalgroup[\"new_sequence\"] = signalgroup[\"time_s\"].shift(1) != signalgroup[\"time_s\"]\n",
    "    groups.append(signalgroup)\n",
    "\n",
    "\n",
    "#resetting index\n",
    "groups = [d.reset_index() for d in groups]\n",
    "\n",
    "# adding weights to the timestamp\n",
    "def weights(group):\n",
    "    # create arrays for weights\n",
    "    group['weights'] = group['weights'].fillna(0)\n",
    "    vector = group['weights'].to_numpy()\n",
    "    indeces = group.index[group['new_sequence'] == True].tolist()\n",
    "\n",
    "    # check if there are sequences\n",
    "    if len(indeces) == 0:\n",
    "        return group\n",
    "\n",
    "    # remove the first indecece if 0\n",
    "    if indeces[0] == 0:\n",
    "        indeces = np.delete(indeces, 0)\n",
    "\n",
    "    # split the weights per sequence\n",
    "    sequences = np.split(vector, indeces, axis=0)\n",
    "    weights = []\n",
    "\n",
    "    # normalize weights per sequence\n",
    "    for seq in sequences:\n",
    "        n = seq/seq.sum()\n",
    "        weights.append(n)\n",
    "\n",
    "    # add weights to dataframe\n",
    "    weights = np.array(weights)\n",
    "    weights = np.concatenate(weights).ravel()\n",
    "    group['weights'] = weights\n",
    "\n",
    "    return group\n",
    "\n",
    "# initiate columns\n",
    "errors = {}\n",
    "stds = {}\n",
    "means = {}\n",
    "nums = {}\n",
    "seq = {}\n",
    "maxaccs = {}\n",
    "minaccs = {}\n",
    "\n",
    "\n",
    "# choose here what state combo you would like. red to green, green to red, or both\n",
    "for i in range(len(groups)):\n",
    "    group = groups[i]\n",
    "    mmgroup = minmaxgroups[i]\n",
    "    groups[i] = group[group['state'] == 'red']\n",
    "    minmaxgroups[i] = mmgroup[mmgroup['state'] == 'red']\n",
    "\n",
    "\n",
    "print()\n",
    "print(\"Ranking data\")\n",
    "# Calculate difference and error\n",
    "for i, signal in tqdm(enumerate(groups), total=len(groups)):\n",
    "\n",
    "    # check if signal has predictions\n",
    "    if len(signal.index) < 1:\n",
    "        error = float('inf')\n",
    "        signal_id = id_list[i]\n",
    "        errors[signal_id] = error\n",
    "        standard_D = float('inf')\n",
    "        stds[signal_id] = standard_D\n",
    "        means[signal_id] = float('inf')\n",
    "        nums[signal_id] = 0\n",
    "        maxaccs[signal_id] = 0\n",
    "        minaccs[signal_id] = 0\n",
    "    else:\n",
    "        # difference time, switch time.\n",
    "        signal[\"weights\"] = signal['time_s'] - signal['state_timestamp']\n",
    "        signal['weights'] = (abs(signal[\"weights\"].dt.total_seconds()))\n",
    "        signal.drop(signal[signal.weights > 300].index, inplace=True)\n",
    "        signal[\"weights\"] =  1/ signal[\"weights\"]\n",
    "\n",
    "        # update weights\n",
    "        signal = weights(signal)\n",
    "\n",
    "        # difference pred, real\n",
    "        signal[\"difference\"] = (signal['time_s'] - signal['state_end_likely'])\n",
    "        signal[\"difference\"] = signal[\"difference\"].dt.total_seconds() * signal[\"weights\"]\n",
    "        signal.drop(signal[abs(signal.difference) > 3000].index, inplace=True)\n",
    "\n",
    "        #number of sequences used\n",
    "        signal_id = signal['id'].to_list()[0]\n",
    "        seq[signal_id] = (signal.new_sequence).sum()\n",
    "\n",
    "        #compute error\n",
    "        arr = signal[\"difference\"] **2\n",
    "        error = arr.sum()/seq[signal_id]\n",
    "        errors[signal_id] = error\n",
    "\n",
    "        # standard deviation of difference\n",
    "        standard_D = signal['difference'].std()\n",
    "        stds[signal_id] = standard_D\n",
    "\n",
    "        # mean of difference\n",
    "        means[signal_id] = signal['difference'].mean()\n",
    "\n",
    "        # number of messages used\n",
    "        nums[signal_id] = len(signal['difference'])\n",
    "\n",
    "\n",
    "\n",
    "        # calculate the amount of min and max predictions that were true\n",
    "        df = minmaxgroups[i].dropna(subset=['state_end_min'])\n",
    "        if len(df.index)<1:\n",
    "            minaccs[signal_id] = 0\n",
    "        else:\n",
    "            df['min'] = (df['state_end_min'] <= df['time_s'])\n",
    "            minaccs[signal_id] = df['min'].value_counts()[True]/len(df.index)\n",
    "        df = minmaxgroups[i].dropna(subset=['state_end_max'])\n",
    "        if len(df.index)<1:\n",
    "            maxaccs[signal_id] = 0\n",
    "        else:\n",
    "            df['max'] = (df['state_end_max'] >= df['time_s'])\n",
    "            maxaccs[signal_id] = df['max'].value_counts()[True]/len(df.index)\n",
    "\n",
    "# ranking\n",
    "ranked = dict(sorted(errors.items(), key=lambda item: item[1]))\n",
    "\n",
    "# final dataframe with outputs\n",
    "outputdf = pd.DataFrame.from_dict(ranked, orient='index', columns=['MSE'])\n",
    "outputdf[\"STD diff\"] = pd.Series(stds)\n",
    "outputdf[\"Mean diff\"] = pd.Series(means)\n",
    "# make a column of maximum error of a 'good' prediction using the mean and std of difference\n",
    "outputdf[\"Benchmark\"] = abs(outputdf[\"Mean diff\"])+2*outputdf[\"STD diff\"]\n",
    "outputdf[\"NumPred\"] = pd.Series(nums)\n",
    "outputdf[\"NumSeq\"] = pd.Series(seq)\n",
    "outputdf[\"MaxAcc\"] = pd.Series(maxaccs)\n",
    "outputdf[\"MinAcc\"] = pd.Series(minaccs)\n",
    "# compute the final score by using the min and max accuracies as weights\n",
    "outputdf.insert(0, 'Score', outputdf['MSE']/outputdf['MaxAcc']/outputdf['MinAcc'])\n",
    "outputdf = outputdf.sort_values('Score')\n",
    "\n",
    "# data to csv\n",
    "folderName = 'output'\n",
    "if not os.path.exists(os.getcwd() + '/' + folderName):\n",
    "    os.makedirs(os.getcwd() + '/' + folderName, exist_ok=True)\n",
    "\n",
    "outputdf.to_csv('output/R2G_output.csv')\n",
    "\n",
    "print(\"Done\")"
   ]
  },
  {
   "cell_type": "code",
   "execution_count": 27,
   "outputs": [],
   "source": [
    "# Splits region ID up into junction level\n",
    "regiondf = pd.DataFrame()\n",
    "regiondf = outputdf.index.str.split('-', expand=True)\n",
    "jnct_id = []\n",
    "for firstval in range(len(regiondf)):\n",
    "    for secondval in range(0,1):\n",
    "        x = regiondf[firstval][secondval]\n",
    "        y = regiondf[firstval][secondval+1]\n",
    "        junction = x + y\n",
    "        jnct_id.append(junction)\n",
    "\n",
    "traffic_light_id = []\n",
    "for firstval in range(len(regiondf)):\n",
    "    x = regiondf[firstval][-1]\n",
    "    traffic_light_id.append(x)\n",
    "\n",
    "outputdf['traffic_light_id']=traffic_light_id\n",
    "outputdf_2 = outputdf\n",
    "outputdf['jnct_id']=jnct_id"
   ],
   "metadata": {
    "collapsed": false,
    "pycharm": {
     "name": "#%%\n"
    }
   }
  },
  {
   "cell_type": "code",
   "execution_count": 28,
   "outputs": [
    {
     "data": {
      "text/plain": "                                 Score            MSE    STD diff  Mean diff  \\\n2041380874-31149-11-2         0.002876       0.001748    0.007819  -0.000509   \n2041380874-31149-11-1         0.047914       0.029912    0.032196  -0.002006   \n2057699418-31398-91-1         0.126610       0.121510    0.102619  -0.008931   \n2057699438-31398-111-13       0.176774       0.155290    0.076717  -0.024721   \n2057699388-31398-61-12        0.196445       0.165200    0.085961  -0.022058   \n...                                ...            ...         ...        ...   \n2032927010-31020-291-16  476907.825279  167118.754503   83.561485 -11.816513   \n2032927010-31020-291-17  510293.860519  124132.565646  114.744743 -18.628695   \n2032927010-31020-291-5   598436.612141  199948.341521   82.632884 -11.219725   \n2057044078-31388-111-6   638722.191103  422459.721721   57.531833  -4.028993   \n2057044278-31388-311-10  644643.737272   78399.514044   33.878425  -1.888876   \n\n                          Benchmark  NumPred  NumSeq    MaxAcc    MinAcc  \\\n2041380874-31149-11-2      0.016148    26217   921.0  1.000000  0.607636   \n2041380874-31149-11-1      0.066397    27079   942.0  1.000000  0.624282   \n2057699418-31398-91-1      0.214169      356    31.0  1.000000  0.959716   \n2057699438-31398-111-13    0.178155     1465    61.0  0.994969  0.882907   \n2057699388-31398-61-12     0.193980     1711    79.0  0.964497  0.871903   \n...                             ...      ...     ...       ...       ...   \n2032927010-31020-291-16  178.939482     5980   254.0  0.374855  0.934819   \n2032927010-31020-291-17  248.118181     1306   140.0  0.442573  0.549643   \n2032927010-31020-291-5   176.485492    24299   845.0  0.414050  0.806951   \n2057044078-31388-111-6   119.092659   118139   930.0  0.694589  0.952238   \n2057044278-31388-311-10   69.645726    46335   680.0  0.175893  0.691425   \n\n                        traffic_light_id          jnct_id  \n2041380874-31149-11-2                  2  204138087431149  \n2041380874-31149-11-1                  1  204138087431149  \n2057699418-31398-91-1                  1  205769941831398  \n2057699438-31398-111-13               13  205769943831398  \n2057699388-31398-61-12                12  205769938831398  \n...                                  ...              ...  \n2032927010-31020-291-16               16  203292701031020  \n2032927010-31020-291-17               17  203292701031020  \n2032927010-31020-291-5                 5  203292701031020  \n2057044078-31388-111-6                 6  205704407831388  \n2057044278-31388-311-10               10  205704427831388  \n\n[197 rows x 11 columns]",
      "text/html": "<div>\n<style scoped>\n    .dataframe tbody tr th:only-of-type {\n        vertical-align: middle;\n    }\n\n    .dataframe tbody tr th {\n        vertical-align: top;\n    }\n\n    .dataframe thead th {\n        text-align: right;\n    }\n</style>\n<table border=\"1\" class=\"dataframe\">\n  <thead>\n    <tr style=\"text-align: right;\">\n      <th></th>\n      <th>Score</th>\n      <th>MSE</th>\n      <th>STD diff</th>\n      <th>Mean diff</th>\n      <th>Benchmark</th>\n      <th>NumPred</th>\n      <th>NumSeq</th>\n      <th>MaxAcc</th>\n      <th>MinAcc</th>\n      <th>traffic_light_id</th>\n      <th>jnct_id</th>\n    </tr>\n  </thead>\n  <tbody>\n    <tr>\n      <th>2041380874-31149-11-2</th>\n      <td>0.002876</td>\n      <td>0.001748</td>\n      <td>0.007819</td>\n      <td>-0.000509</td>\n      <td>0.016148</td>\n      <td>26217</td>\n      <td>921.0</td>\n      <td>1.000000</td>\n      <td>0.607636</td>\n      <td>2</td>\n      <td>204138087431149</td>\n    </tr>\n    <tr>\n      <th>2041380874-31149-11-1</th>\n      <td>0.047914</td>\n      <td>0.029912</td>\n      <td>0.032196</td>\n      <td>-0.002006</td>\n      <td>0.066397</td>\n      <td>27079</td>\n      <td>942.0</td>\n      <td>1.000000</td>\n      <td>0.624282</td>\n      <td>1</td>\n      <td>204138087431149</td>\n    </tr>\n    <tr>\n      <th>2057699418-31398-91-1</th>\n      <td>0.126610</td>\n      <td>0.121510</td>\n      <td>0.102619</td>\n      <td>-0.008931</td>\n      <td>0.214169</td>\n      <td>356</td>\n      <td>31.0</td>\n      <td>1.000000</td>\n      <td>0.959716</td>\n      <td>1</td>\n      <td>205769941831398</td>\n    </tr>\n    <tr>\n      <th>2057699438-31398-111-13</th>\n      <td>0.176774</td>\n      <td>0.155290</td>\n      <td>0.076717</td>\n      <td>-0.024721</td>\n      <td>0.178155</td>\n      <td>1465</td>\n      <td>61.0</td>\n      <td>0.994969</td>\n      <td>0.882907</td>\n      <td>13</td>\n      <td>205769943831398</td>\n    </tr>\n    <tr>\n      <th>2057699388-31398-61-12</th>\n      <td>0.196445</td>\n      <td>0.165200</td>\n      <td>0.085961</td>\n      <td>-0.022058</td>\n      <td>0.193980</td>\n      <td>1711</td>\n      <td>79.0</td>\n      <td>0.964497</td>\n      <td>0.871903</td>\n      <td>12</td>\n      <td>205769938831398</td>\n    </tr>\n    <tr>\n      <th>...</th>\n      <td>...</td>\n      <td>...</td>\n      <td>...</td>\n      <td>...</td>\n      <td>...</td>\n      <td>...</td>\n      <td>...</td>\n      <td>...</td>\n      <td>...</td>\n      <td>...</td>\n      <td>...</td>\n    </tr>\n    <tr>\n      <th>2032927010-31020-291-16</th>\n      <td>476907.825279</td>\n      <td>167118.754503</td>\n      <td>83.561485</td>\n      <td>-11.816513</td>\n      <td>178.939482</td>\n      <td>5980</td>\n      <td>254.0</td>\n      <td>0.374855</td>\n      <td>0.934819</td>\n      <td>16</td>\n      <td>203292701031020</td>\n    </tr>\n    <tr>\n      <th>2032927010-31020-291-17</th>\n      <td>510293.860519</td>\n      <td>124132.565646</td>\n      <td>114.744743</td>\n      <td>-18.628695</td>\n      <td>248.118181</td>\n      <td>1306</td>\n      <td>140.0</td>\n      <td>0.442573</td>\n      <td>0.549643</td>\n      <td>17</td>\n      <td>203292701031020</td>\n    </tr>\n    <tr>\n      <th>2032927010-31020-291-5</th>\n      <td>598436.612141</td>\n      <td>199948.341521</td>\n      <td>82.632884</td>\n      <td>-11.219725</td>\n      <td>176.485492</td>\n      <td>24299</td>\n      <td>845.0</td>\n      <td>0.414050</td>\n      <td>0.806951</td>\n      <td>5</td>\n      <td>203292701031020</td>\n    </tr>\n    <tr>\n      <th>2057044078-31388-111-6</th>\n      <td>638722.191103</td>\n      <td>422459.721721</td>\n      <td>57.531833</td>\n      <td>-4.028993</td>\n      <td>119.092659</td>\n      <td>118139</td>\n      <td>930.0</td>\n      <td>0.694589</td>\n      <td>0.952238</td>\n      <td>6</td>\n      <td>205704407831388</td>\n    </tr>\n    <tr>\n      <th>2057044278-31388-311-10</th>\n      <td>644643.737272</td>\n      <td>78399.514044</td>\n      <td>33.878425</td>\n      <td>-1.888876</td>\n      <td>69.645726</td>\n      <td>46335</td>\n      <td>680.0</td>\n      <td>0.175893</td>\n      <td>0.691425</td>\n      <td>10</td>\n      <td>205704427831388</td>\n    </tr>\n  </tbody>\n</table>\n<p>197 rows × 11 columns</p>\n</div>"
     },
     "execution_count": 28,
     "metadata": {},
     "output_type": "execute_result"
    }
   ],
   "source": [
    "cluster_df = outputdf\n",
    "cluster_df = cluster_df.replace([np.inf, -np.inf], np.nan).dropna()\n",
    "cluster_df"
   ],
   "metadata": {
    "collapsed": false,
    "pycharm": {
     "name": "#%%\n"
    }
   }
  },
  {
   "cell_type": "markdown",
   "source": [
    "### Import Libraries for Clustering"
   ],
   "metadata": {
    "collapsed": false,
    "pycharm": {
     "name": "#%% md\n"
    }
   }
  },
  {
   "cell_type": "code",
   "execution_count": 29,
   "outputs": [],
   "source": [
    "from sklearn.cluster import KMeans\n",
    "from sklearn.preprocessing import StandardScaler\n",
    "import matplotlib.pyplot as plt\n",
    "import plotly.express as px"
   ],
   "metadata": {
    "collapsed": false,
    "pycharm": {
     "name": "#%%\n"
    }
   }
  },
  {
   "cell_type": "markdown",
   "source": [
    "### Create Instance Of The Scaler\n",
    "First create an instance of the scaler that we will use to transform the data"
   ],
   "metadata": {
    "collapsed": false,
    "pycharm": {
     "name": "#%% md\n"
    }
   }
  },
  {
   "cell_type": "code",
   "execution_count": 30,
   "outputs": [],
   "source": [
    "scaler = StandardScaler()"
   ],
   "metadata": {
    "collapsed": false,
    "pycharm": {
     "name": "#%%\n"
    }
   }
  },
  {
   "cell_type": "markdown",
   "source": [
    "### Scale The Data In The Dataframe\n",
    "For the clustering we will use the 'SCORE, 'MSE', 'STD diff', 'Benchmark', 'NumPred', 'NumSeq', 'MinAcc' and 'MinAcc'. So we create new colums for the transformed data."
   ],
   "metadata": {
    "collapsed": false,
    "pycharm": {
     "name": "#%% md\n"
    }
   }
  },
  {
   "cell_type": "code",
   "execution_count": 31,
   "outputs": [],
   "source": [
    "cluster_df[['Score_T', 'MSE_T', 'STD diff_T', 'Benchmark_T', 'NumSeq_T', 'MaxAcc_T', 'MinAcc_T']] = scaler.fit_transform(cluster_df[['Score','MSE', 'STD diff', 'Benchmark', 'NumSeq', 'MaxAcc', 'MinAcc']])"
   ],
   "metadata": {
    "collapsed": false,
    "pycharm": {
     "name": "#%%\n"
    }
   }
  },
  {
   "cell_type": "code",
   "execution_count": 32,
   "outputs": [
    {
     "data": {
      "text/plain": "                                 Score            MSE    STD diff  Mean diff  \\\n2041380874-31149-11-2         0.002876       0.001748    0.007819  -0.000509   \n2041380874-31149-11-1         0.047914       0.029912    0.032196  -0.002006   \n2057699418-31398-91-1         0.126610       0.121510    0.102619  -0.008931   \n2057699438-31398-111-13       0.176774       0.155290    0.076717  -0.024721   \n2057699388-31398-61-12        0.196445       0.165200    0.085961  -0.022058   \n...                                ...            ...         ...        ...   \n2032927010-31020-291-16  476907.825279  167118.754503   83.561485 -11.816513   \n2032927010-31020-291-17  510293.860519  124132.565646  114.744743 -18.628695   \n2032927010-31020-291-5   598436.612141  199948.341521   82.632884 -11.219725   \n2057044078-31388-111-6   638722.191103  422459.721721   57.531833  -4.028993   \n2057044278-31388-311-10  644643.737272   78399.514044   33.878425  -1.888876   \n\n                          Benchmark  NumPred  NumSeq    MaxAcc    MinAcc  \\\n2041380874-31149-11-2      0.016148    26217   921.0  1.000000  0.607636   \n2041380874-31149-11-1      0.066397    27079   942.0  1.000000  0.624282   \n2057699418-31398-91-1      0.214169      356    31.0  1.000000  0.959716   \n2057699438-31398-111-13    0.178155     1465    61.0  0.994969  0.882907   \n2057699388-31398-61-12     0.193980     1711    79.0  0.964497  0.871903   \n...                             ...      ...     ...       ...       ...   \n2032927010-31020-291-16  178.939482     5980   254.0  0.374855  0.934819   \n2032927010-31020-291-17  248.118181     1306   140.0  0.442573  0.549643   \n2032927010-31020-291-5   176.485492    24299   845.0  0.414050  0.806951   \n2057044078-31388-111-6   119.092659   118139   930.0  0.694589  0.952238   \n2057044278-31388-311-10   69.645726    46335   680.0  0.175893  0.691425   \n\n                        traffic_light_id          jnct_id   Score_T     MSE_T  \\\n2041380874-31149-11-2                  2  204138087431149 -0.703573 -0.701418   \n2041380874-31149-11-1                  1  204138087431149 -0.703573 -0.701417   \n2057699418-31398-91-1                  1  205769941831398 -0.703572 -0.701416   \n2057699438-31398-111-13               13  205769943831398 -0.703572 -0.701416   \n2057699388-31398-61-12                12  205769938831398 -0.703572 -0.701416   \n...                                  ...              ...       ...       ...   \n2032927010-31020-291-16               16  203292701031020  2.341188  1.247078   \n2032927010-31020-291-17               17  203292701031020  2.554338  0.745887   \n2032927010-31020-291-5                 5  203292701031020  3.117075  1.629849   \n2057044078-31388-111-6                 6  205704407831388  3.374273  4.224187   \n2057044278-31388-311-10               10  205704427831388  3.412078  0.212670   \n\n                         STD diff_T  Benchmark_T  NumSeq_T  MaxAcc_T  MinAcc_T  \n2041380874-31149-11-2     -0.744471    -0.726332  0.665520  0.912123 -2.308480  \n2041380874-31149-11-1     -0.743733    -0.725627  0.713742  0.912123 -2.157094  \n2057699418-31398-91-1     -0.741601    -0.723556 -1.378189  0.912123  0.893586  \n2057699438-31398-111-13   -0.742385    -0.724061 -1.309300  0.882813  0.195035  \n2057699388-31398-61-12    -0.742105    -0.723839 -1.267967  0.705304  0.094955  \n...                             ...          ...       ...       ...       ...  \n2032927010-31020-291-16    1.784607     1.781754 -0.866114 -2.729613  0.667159  \n2032927010-31020-291-17    2.728491     2.751477 -1.127893 -2.335128 -2.835911  \n2032927010-31020-291-5     1.756500     1.747355  0.491001 -2.501285 -0.495771  \n2057044078-31388-111-6     0.996718     0.942842  0.686186 -0.867028  0.825582  \n2057044278-31388-311-10    0.280756     0.249712  0.112111 -3.888651 -1.546442  \n\n[197 rows x 18 columns]",
      "text/html": "<div>\n<style scoped>\n    .dataframe tbody tr th:only-of-type {\n        vertical-align: middle;\n    }\n\n    .dataframe tbody tr th {\n        vertical-align: top;\n    }\n\n    .dataframe thead th {\n        text-align: right;\n    }\n</style>\n<table border=\"1\" class=\"dataframe\">\n  <thead>\n    <tr style=\"text-align: right;\">\n      <th></th>\n      <th>Score</th>\n      <th>MSE</th>\n      <th>STD diff</th>\n      <th>Mean diff</th>\n      <th>Benchmark</th>\n      <th>NumPred</th>\n      <th>NumSeq</th>\n      <th>MaxAcc</th>\n      <th>MinAcc</th>\n      <th>traffic_light_id</th>\n      <th>jnct_id</th>\n      <th>Score_T</th>\n      <th>MSE_T</th>\n      <th>STD diff_T</th>\n      <th>Benchmark_T</th>\n      <th>NumSeq_T</th>\n      <th>MaxAcc_T</th>\n      <th>MinAcc_T</th>\n    </tr>\n  </thead>\n  <tbody>\n    <tr>\n      <th>2041380874-31149-11-2</th>\n      <td>0.002876</td>\n      <td>0.001748</td>\n      <td>0.007819</td>\n      <td>-0.000509</td>\n      <td>0.016148</td>\n      <td>26217</td>\n      <td>921.0</td>\n      <td>1.000000</td>\n      <td>0.607636</td>\n      <td>2</td>\n      <td>204138087431149</td>\n      <td>-0.703573</td>\n      <td>-0.701418</td>\n      <td>-0.744471</td>\n      <td>-0.726332</td>\n      <td>0.665520</td>\n      <td>0.912123</td>\n      <td>-2.308480</td>\n    </tr>\n    <tr>\n      <th>2041380874-31149-11-1</th>\n      <td>0.047914</td>\n      <td>0.029912</td>\n      <td>0.032196</td>\n      <td>-0.002006</td>\n      <td>0.066397</td>\n      <td>27079</td>\n      <td>942.0</td>\n      <td>1.000000</td>\n      <td>0.624282</td>\n      <td>1</td>\n      <td>204138087431149</td>\n      <td>-0.703573</td>\n      <td>-0.701417</td>\n      <td>-0.743733</td>\n      <td>-0.725627</td>\n      <td>0.713742</td>\n      <td>0.912123</td>\n      <td>-2.157094</td>\n    </tr>\n    <tr>\n      <th>2057699418-31398-91-1</th>\n      <td>0.126610</td>\n      <td>0.121510</td>\n      <td>0.102619</td>\n      <td>-0.008931</td>\n      <td>0.214169</td>\n      <td>356</td>\n      <td>31.0</td>\n      <td>1.000000</td>\n      <td>0.959716</td>\n      <td>1</td>\n      <td>205769941831398</td>\n      <td>-0.703572</td>\n      <td>-0.701416</td>\n      <td>-0.741601</td>\n      <td>-0.723556</td>\n      <td>-1.378189</td>\n      <td>0.912123</td>\n      <td>0.893586</td>\n    </tr>\n    <tr>\n      <th>2057699438-31398-111-13</th>\n      <td>0.176774</td>\n      <td>0.155290</td>\n      <td>0.076717</td>\n      <td>-0.024721</td>\n      <td>0.178155</td>\n      <td>1465</td>\n      <td>61.0</td>\n      <td>0.994969</td>\n      <td>0.882907</td>\n      <td>13</td>\n      <td>205769943831398</td>\n      <td>-0.703572</td>\n      <td>-0.701416</td>\n      <td>-0.742385</td>\n      <td>-0.724061</td>\n      <td>-1.309300</td>\n      <td>0.882813</td>\n      <td>0.195035</td>\n    </tr>\n    <tr>\n      <th>2057699388-31398-61-12</th>\n      <td>0.196445</td>\n      <td>0.165200</td>\n      <td>0.085961</td>\n      <td>-0.022058</td>\n      <td>0.193980</td>\n      <td>1711</td>\n      <td>79.0</td>\n      <td>0.964497</td>\n      <td>0.871903</td>\n      <td>12</td>\n      <td>205769938831398</td>\n      <td>-0.703572</td>\n      <td>-0.701416</td>\n      <td>-0.742105</td>\n      <td>-0.723839</td>\n      <td>-1.267967</td>\n      <td>0.705304</td>\n      <td>0.094955</td>\n    </tr>\n    <tr>\n      <th>...</th>\n      <td>...</td>\n      <td>...</td>\n      <td>...</td>\n      <td>...</td>\n      <td>...</td>\n      <td>...</td>\n      <td>...</td>\n      <td>...</td>\n      <td>...</td>\n      <td>...</td>\n      <td>...</td>\n      <td>...</td>\n      <td>...</td>\n      <td>...</td>\n      <td>...</td>\n      <td>...</td>\n      <td>...</td>\n      <td>...</td>\n    </tr>\n    <tr>\n      <th>2032927010-31020-291-16</th>\n      <td>476907.825279</td>\n      <td>167118.754503</td>\n      <td>83.561485</td>\n      <td>-11.816513</td>\n      <td>178.939482</td>\n      <td>5980</td>\n      <td>254.0</td>\n      <td>0.374855</td>\n      <td>0.934819</td>\n      <td>16</td>\n      <td>203292701031020</td>\n      <td>2.341188</td>\n      <td>1.247078</td>\n      <td>1.784607</td>\n      <td>1.781754</td>\n      <td>-0.866114</td>\n      <td>-2.729613</td>\n      <td>0.667159</td>\n    </tr>\n    <tr>\n      <th>2032927010-31020-291-17</th>\n      <td>510293.860519</td>\n      <td>124132.565646</td>\n      <td>114.744743</td>\n      <td>-18.628695</td>\n      <td>248.118181</td>\n      <td>1306</td>\n      <td>140.0</td>\n      <td>0.442573</td>\n      <td>0.549643</td>\n      <td>17</td>\n      <td>203292701031020</td>\n      <td>2.554338</td>\n      <td>0.745887</td>\n      <td>2.728491</td>\n      <td>2.751477</td>\n      <td>-1.127893</td>\n      <td>-2.335128</td>\n      <td>-2.835911</td>\n    </tr>\n    <tr>\n      <th>2032927010-31020-291-5</th>\n      <td>598436.612141</td>\n      <td>199948.341521</td>\n      <td>82.632884</td>\n      <td>-11.219725</td>\n      <td>176.485492</td>\n      <td>24299</td>\n      <td>845.0</td>\n      <td>0.414050</td>\n      <td>0.806951</td>\n      <td>5</td>\n      <td>203292701031020</td>\n      <td>3.117075</td>\n      <td>1.629849</td>\n      <td>1.756500</td>\n      <td>1.747355</td>\n      <td>0.491001</td>\n      <td>-2.501285</td>\n      <td>-0.495771</td>\n    </tr>\n    <tr>\n      <th>2057044078-31388-111-6</th>\n      <td>638722.191103</td>\n      <td>422459.721721</td>\n      <td>57.531833</td>\n      <td>-4.028993</td>\n      <td>119.092659</td>\n      <td>118139</td>\n      <td>930.0</td>\n      <td>0.694589</td>\n      <td>0.952238</td>\n      <td>6</td>\n      <td>205704407831388</td>\n      <td>3.374273</td>\n      <td>4.224187</td>\n      <td>0.996718</td>\n      <td>0.942842</td>\n      <td>0.686186</td>\n      <td>-0.867028</td>\n      <td>0.825582</td>\n    </tr>\n    <tr>\n      <th>2057044278-31388-311-10</th>\n      <td>644643.737272</td>\n      <td>78399.514044</td>\n      <td>33.878425</td>\n      <td>-1.888876</td>\n      <td>69.645726</td>\n      <td>46335</td>\n      <td>680.0</td>\n      <td>0.175893</td>\n      <td>0.691425</td>\n      <td>10</td>\n      <td>205704427831388</td>\n      <td>3.412078</td>\n      <td>0.212670</td>\n      <td>0.280756</td>\n      <td>0.249712</td>\n      <td>0.112111</td>\n      <td>-3.888651</td>\n      <td>-1.546442</td>\n    </tr>\n  </tbody>\n</table>\n<p>197 rows × 18 columns</p>\n</div>"
     },
     "execution_count": 32,
     "metadata": {},
     "output_type": "execute_result"
    }
   ],
   "source": [
    "cluster_df"
   ],
   "metadata": {
    "collapsed": false,
    "pycharm": {
     "name": "#%%\n"
    }
   }
  },
  {
   "cell_type": "markdown",
   "source": [
    "### Identifying The Optimum Amount of Clusters\n",
    "\n",
    "To identify the optimum amount of clusters we use something called the elbow method. We plot the amount of inertia against the number of clusters. So we see at what point an increased amount of clusters stops providing extra information. You can read this from the graph by seeing when the curve flattens. Here it is around 2/3."
   ],
   "metadata": {
    "collapsed": false,
    "pycharm": {
     "name": "#%% md\n"
    }
   }
  },
  {
   "cell_type": "code",
   "execution_count": 33,
   "outputs": [],
   "source": [
    "def optimise_k_means(data, max_k):\n",
    "    means = []\n",
    "    inertias = []\n",
    "\n",
    "    for k in range(1, max_k):\n",
    "        kmeans = KMeans(n_clusters=k)\n",
    "        kmeans.fit(data)\n",
    "        means.append(k)\n",
    "        inertias.append(kmeans.inertia_)\n",
    "\n",
    "    fig = plt.subplots(figsize=(10, 5))\n",
    "    plt.plot(means, inertias, 'o-')\n",
    "    plt.xlabel(\"Number of Clusters\")\n",
    "    plt.ylabel(\"Inertia\")\n",
    "    plt.grid(True)\n",
    "    plt.show()"
   ],
   "metadata": {
    "collapsed": false,
    "pycharm": {
     "name": "#%%\n"
    }
   }
  },
  {
   "cell_type": "code",
   "execution_count": 34,
   "outputs": [
    {
     "data": {
      "text/plain": "<Figure size 720x360 with 1 Axes>",
      "image/png": "[encoded data removed]"
     },
     "metadata": {
      "needs_background": "light"
     },
     "output_type": "display_data"
    }
   ],
   "source": [
    "optimise_k_means(cluster_df[['Score_T', 'MSE_T', 'STD diff_T', 'Benchmark_T', 'NumSeq_T', 'MaxAcc_T', 'MinAcc_T']], 10)"
   ],
   "metadata": {
    "collapsed": false,
    "pycharm": {
     "name": "#%%\n"
    }
   }
  },
  {
   "cell_type": "markdown",
   "source": [
    "We chose K=2."
   ],
   "metadata": {
    "collapsed": false,
    "pycharm": {
     "name": "#%% md\n"
    }
   }
  },
  {
   "cell_type": "markdown",
   "source": [
    "#### Fit the clustering model for 2 clusters"
   ],
   "metadata": {
    "collapsed": false,
    "pycharm": {
     "name": "#%% md\n"
    }
   }
  },
  {
   "cell_type": "code",
   "execution_count": 35,
   "outputs": [],
   "source": [
    "kmeans = KMeans(n_clusters=2)"
   ],
   "metadata": {
    "collapsed": false,
    "pycharm": {
     "name": "#%%\n"
    }
   }
  },
  {
   "cell_type": "code",
   "execution_count": 36,
   "outputs": [
    {
     "data": {
      "text/plain": "KMeans(n_clusters=2)"
     },
     "execution_count": 36,
     "metadata": {},
     "output_type": "execute_result"
    }
   ],
   "source": [
    "kmeans.fit(cluster_df[['Score_T', 'MSE_T', 'STD diff_T', 'Benchmark_T', 'NumSeq_T', 'MinAcc_T', 'MinAcc_T']])"
   ],
   "metadata": {
    "collapsed": false,
    "pycharm": {
     "name": "#%%\n"
    }
   }
  },
  {
   "cell_type": "markdown",
   "source": [
    "#### Add cluster catagory to the dataframe"
   ],
   "metadata": {
    "collapsed": false,
    "pycharm": {
     "name": "#%% md\n"
    }
   }
  },
  {
   "cell_type": "code",
   "execution_count": 37,
   "outputs": [],
   "source": [
    "cluster_df['K_means_2'] = kmeans.labels_"
   ],
   "metadata": {
    "collapsed": false,
    "pycharm": {
     "name": "#%%\n"
    }
   }
  },
  {
   "cell_type": "code",
   "execution_count": 38,
   "outputs": [
    {
     "data": {
      "text/plain": "                                 Score            MSE    STD diff  Mean diff  \\\n2041380874-31149-11-2         0.002876       0.001748    0.007819  -0.000509   \n2041380874-31149-11-1         0.047914       0.029912    0.032196  -0.002006   \n2057699418-31398-91-1         0.126610       0.121510    0.102619  -0.008931   \n2057699438-31398-111-13       0.176774       0.155290    0.076717  -0.024721   \n2057699388-31398-61-12        0.196445       0.165200    0.085961  -0.022058   \n...                                ...            ...         ...        ...   \n2032927010-31020-291-16  476907.825279  167118.754503   83.561485 -11.816513   \n2032927010-31020-291-17  510293.860519  124132.565646  114.744743 -18.628695   \n2032927010-31020-291-5   598436.612141  199948.341521   82.632884 -11.219725   \n2057044078-31388-111-6   638722.191103  422459.721721   57.531833  -4.028993   \n2057044278-31388-311-10  644643.737272   78399.514044   33.878425  -1.888876   \n\n                          Benchmark  NumPred  NumSeq    MaxAcc    MinAcc  \\\n2041380874-31149-11-2      0.016148    26217   921.0  1.000000  0.607636   \n2041380874-31149-11-1      0.066397    27079   942.0  1.000000  0.624282   \n2057699418-31398-91-1      0.214169      356    31.0  1.000000  0.959716   \n2057699438-31398-111-13    0.178155     1465    61.0  0.994969  0.882907   \n2057699388-31398-61-12     0.193980     1711    79.0  0.964497  0.871903   \n...                             ...      ...     ...       ...       ...   \n2032927010-31020-291-16  178.939482     5980   254.0  0.374855  0.934819   \n2032927010-31020-291-17  248.118181     1306   140.0  0.442573  0.549643   \n2032927010-31020-291-5   176.485492    24299   845.0  0.414050  0.806951   \n2057044078-31388-111-6   119.092659   118139   930.0  0.694589  0.952238   \n2057044278-31388-311-10   69.645726    46335   680.0  0.175893  0.691425   \n\n                        traffic_light_id          jnct_id   Score_T     MSE_T  \\\n2041380874-31149-11-2                  2  204138087431149 -0.703573 -0.701418   \n2041380874-31149-11-1                  1  204138087431149 -0.703573 -0.701417   \n2057699418-31398-91-1                  1  205769941831398 -0.703572 -0.701416   \n2057699438-31398-111-13               13  205769943831398 -0.703572 -0.701416   \n2057699388-31398-61-12                12  205769938831398 -0.703572 -0.701416   \n...                                  ...              ...       ...       ...   \n2032927010-31020-291-16               16  203292701031020  2.341188  1.247078   \n2032927010-31020-291-17               17  203292701031020  2.554338  0.745887   \n2032927010-31020-291-5                 5  203292701031020  3.117075  1.629849   \n2057044078-31388-111-6                 6  205704407831388  3.374273  4.224187   \n2057044278-31388-311-10               10  205704427831388  3.412078  0.212670   \n\n                         STD diff_T  Benchmark_T  NumSeq_T  MaxAcc_T  \\\n2041380874-31149-11-2     -0.744471    -0.726332  0.665520  0.912123   \n2041380874-31149-11-1     -0.743733    -0.725627  0.713742  0.912123   \n2057699418-31398-91-1     -0.741601    -0.723556 -1.378189  0.912123   \n2057699438-31398-111-13   -0.742385    -0.724061 -1.309300  0.882813   \n2057699388-31398-61-12    -0.742105    -0.723839 -1.267967  0.705304   \n...                             ...          ...       ...       ...   \n2032927010-31020-291-16    1.784607     1.781754 -0.866114 -2.729613   \n2032927010-31020-291-17    2.728491     2.751477 -1.127893 -2.335128   \n2032927010-31020-291-5     1.756500     1.747355  0.491001 -2.501285   \n2057044078-31388-111-6     0.996718     0.942842  0.686186 -0.867028   \n2057044278-31388-311-10    0.280756     0.249712  0.112111 -3.888651   \n\n                         MinAcc_T  K_means_2  \n2041380874-31149-11-2   -2.308480          1  \n2041380874-31149-11-1   -2.157094          1  \n2057699418-31398-91-1    0.893586          1  \n2057699438-31398-111-13  0.195035          1  \n2057699388-31398-61-12   0.094955          1  \n...                           ...        ...  \n2032927010-31020-291-16  0.667159          0  \n2032927010-31020-291-17 -2.835911          0  \n2032927010-31020-291-5  -0.495771          0  \n2057044078-31388-111-6   0.825582          0  \n2057044278-31388-311-10 -1.546442          0  \n\n[197 rows x 19 columns]",
      "text/html": "<div>\n<style scoped>\n    .dataframe tbody tr th:only-of-type {\n        vertical-align: middle;\n    }\n\n    .dataframe tbody tr th {\n        vertical-align: top;\n    }\n\n    .dataframe thead th {\n        text-align: right;\n    }\n</style>\n<table border=\"1\" class=\"dataframe\">\n  <thead>\n    <tr style=\"text-align: right;\">\n      <th></th>\n      <th>Score</th>\n      <th>MSE</th>\n      <th>STD diff</th>\n      <th>Mean diff</th>\n      <th>Benchmark</th>\n      <th>NumPred</th>\n      <th>NumSeq</th>\n      <th>MaxAcc</th>\n      <th>MinAcc</th>\n      <th>traffic_light_id</th>\n      <th>jnct_id</th>\n      <th>Score_T</th>\n      <th>MSE_T</th>\n      <th>STD diff_T</th>\n      <th>Benchmark_T</th>\n      <th>NumSeq_T</th>\n      <th>MaxAcc_T</th>\n      <th>MinAcc_T</th>\n      <th>K_means_2</th>\n    </tr>\n  </thead>\n  <tbody>\n    <tr>\n      <th>2041380874-31149-11-2</th>\n      <td>0.002876</td>\n      <td>0.001748</td>\n      <td>0.007819</td>\n      <td>-0.000509</td>\n      <td>0.016148</td>\n      <td>26217</td>\n      <td>921.0</td>\n      <td>1.000000</td>\n      <td>0.607636</td>\n      <td>2</td>\n      <td>204138087431149</td>\n      <td>-0.703573</td>\n      <td>-0.701418</td>\n      <td>-0.744471</td>\n      <td>-0.726332</td>\n      <td>0.665520</td>\n      <td>0.912123</td>\n      <td>-2.308480</td>\n      <td>1</td>\n    </tr>\n    <tr>\n      <th>2041380874-31149-11-1</th>\n      <td>0.047914</td>\n      <td>0.029912</td>\n      <td>0.032196</td>\n      <td>-0.002006</td>\n      <td>0.066397</td>\n      <td>27079</td>\n      <td>942.0</td>\n      <td>1.000000</td>\n      <td>0.624282</td>\n      <td>1</td>\n      <td>204138087431149</td>\n      <td>-0.703573</td>\n      <td>-0.701417</td>\n      <td>-0.743733</td>\n      <td>-0.725627</td>\n      <td>0.713742</td>\n      <td>0.912123</td>\n      <td>-2.157094</td>\n      <td>1</td>\n    </tr>\n    <tr>\n      <th>2057699418-31398-91-1</th>\n      <td>0.126610</td>\n      <td>0.121510</td>\n      <td>0.102619</td>\n      <td>-0.008931</td>\n      <td>0.214169</td>\n      <td>356</td>\n      <td>31.0</td>\n      <td>1.000000</td>\n      <td>0.959716</td>\n      <td>1</td>\n      <td>205769941831398</td>\n      <td>-0.703572</td>\n      <td>-0.701416</td>\n      <td>-0.741601</td>\n      <td>-0.723556</td>\n      <td>-1.378189</td>\n      <td>0.912123</td>\n      <td>0.893586</td>\n      <td>1</td>\n    </tr>\n    <tr>\n      <th>2057699438-31398-111-13</th>\n      <td>0.176774</td>\n      <td>0.155290</td>\n      <td>0.076717</td>\n      <td>-0.024721</td>\n      <td>0.178155</td>\n      <td>1465</td>\n      <td>61.0</td>\n      <td>0.994969</td>\n      <td>0.882907</td>\n      <td>13</td>\n      <td>205769943831398</td>\n      <td>-0.703572</td>\n      <td>-0.701416</td>\n      <td>-0.742385</td>\n      <td>-0.724061</td>\n      <td>-1.309300</td>\n      <td>0.882813</td>\n      <td>0.195035</td>\n      <td>1</td>\n    </tr>\n    <tr>\n      <th>2057699388-31398-61-12</th>\n      <td>0.196445</td>\n      <td>0.165200</td>\n      <td>0.085961</td>\n      <td>-0.022058</td>\n      <td>0.193980</td>\n      <td>1711</td>\n      <td>79.0</td>\n      <td>0.964497</td>\n      <td>0.871903</td>\n      <td>12</td>\n      <td>205769938831398</td>\n      <td>-0.703572</td>\n      <td>-0.701416</td>\n      <td>-0.742105</td>\n      <td>-0.723839</td>\n      <td>-1.267967</td>\n      <td>0.705304</td>\n      <td>0.094955</td>\n      <td>1</td>\n    </tr>\n    <tr>\n      <th>...</th>\n      <td>...</td>\n      <td>...</td>\n      <td>...</td>\n      <td>...</td>\n      <td>...</td>\n      <td>...</td>\n      <td>...</td>\n      <td>...</td>\n      <td>...</td>\n      <td>...</td>\n      <td>...</td>\n      <td>...</td>\n      <td>...</td>\n      <td>...</td>\n      <td>...</td>\n      <td>...</td>\n      <td>...</td>\n      <td>...</td>\n      <td>...</td>\n    </tr>\n    <tr>\n      <th>2032927010-31020-291-16</th>\n      <td>476907.825279</td>\n      <td>167118.754503</td>\n      <td>83.561485</td>\n      <td>-11.816513</td>\n      <td>178.939482</td>\n      <td>5980</td>\n      <td>254.0</td>\n      <td>0.374855</td>\n      <td>0.934819</td>\n      <td>16</td>\n      <td>203292701031020</td>\n      <td>2.341188</td>\n      <td>1.247078</td>\n      <td>1.784607</td>\n      <td>1.781754</td>\n      <td>-0.866114</td>\n      <td>-2.729613</td>\n      <td>0.667159</td>\n      <td>0</td>\n    </tr>\n    <tr>\n      <th>2032927010-31020-291-17</th>\n      <td>510293.860519</td>\n      <td>124132.565646</td>\n      <td>114.744743</td>\n      <td>-18.628695</td>\n      <td>248.118181</td>\n      <td>1306</td>\n      <td>140.0</td>\n      <td>0.442573</td>\n      <td>0.549643</td>\n      <td>17</td>\n      <td>203292701031020</td>\n      <td>2.554338</td>\n      <td>0.745887</td>\n      <td>2.728491</td>\n      <td>2.751477</td>\n      <td>-1.127893</td>\n      <td>-2.335128</td>\n      <td>-2.835911</td>\n      <td>0</td>\n    </tr>\n    <tr>\n      <th>2032927010-31020-291-5</th>\n      <td>598436.612141</td>\n      <td>199948.341521</td>\n      <td>82.632884</td>\n      <td>-11.219725</td>\n      <td>176.485492</td>\n      <td>24299</td>\n      <td>845.0</td>\n      <td>0.414050</td>\n      <td>0.806951</td>\n      <td>5</td>\n      <td>203292701031020</td>\n      <td>3.117075</td>\n      <td>1.629849</td>\n      <td>1.756500</td>\n      <td>1.747355</td>\n      <td>0.491001</td>\n      <td>-2.501285</td>\n      <td>-0.495771</td>\n      <td>0</td>\n    </tr>\n    <tr>\n      <th>2057044078-31388-111-6</th>\n      <td>638722.191103</td>\n      <td>422459.721721</td>\n      <td>57.531833</td>\n      <td>-4.028993</td>\n      <td>119.092659</td>\n      <td>118139</td>\n      <td>930.0</td>\n      <td>0.694589</td>\n      <td>0.952238</td>\n      <td>6</td>\n      <td>205704407831388</td>\n      <td>3.374273</td>\n      <td>4.224187</td>\n      <td>0.996718</td>\n      <td>0.942842</td>\n      <td>0.686186</td>\n      <td>-0.867028</td>\n      <td>0.825582</td>\n      <td>0</td>\n    </tr>\n    <tr>\n      <th>2057044278-31388-311-10</th>\n      <td>644643.737272</td>\n      <td>78399.514044</td>\n      <td>33.878425</td>\n      <td>-1.888876</td>\n      <td>69.645726</td>\n      <td>46335</td>\n      <td>680.0</td>\n      <td>0.175893</td>\n      <td>0.691425</td>\n      <td>10</td>\n      <td>205704427831388</td>\n      <td>3.412078</td>\n      <td>0.212670</td>\n      <td>0.280756</td>\n      <td>0.249712</td>\n      <td>0.112111</td>\n      <td>-3.888651</td>\n      <td>-1.546442</td>\n      <td>0</td>\n    </tr>\n  </tbody>\n</table>\n<p>197 rows × 19 columns</p>\n</div>"
     },
     "execution_count": 38,
     "metadata": {},
     "output_type": "execute_result"
    }
   ],
   "source": [
    "cluster_df"
   ],
   "metadata": {
    "collapsed": false,
    "pycharm": {
     "name": "#%%\n"
    }
   }
  },
  {
   "cell_type": "markdown",
   "source": [
    "### Plot the Score against the Junction ID's, also including what cluster each point belongs to"
   ],
   "metadata": {
    "collapsed": false,
    "pycharm": {
     "name": "#%% md\n"
    }
   }
  },
  {
   "cell_type": "code",
   "execution_count": 57,
   "outputs": [
    {
     "data": {
      "application/vnd.plotly.v1+json": {
       "data": [
        {
         "hovertemplate": "<b>%{hovertext}</b><br><br>jnct_id=%{x}<br>Score=%{y}<br>NumSeq=%{marker.size}<br>K_means_2=%{marker.color}<extra></extra>",
         "hovertext": [
          "2041380874-31149-11-2",
          "2041380874-31149-11-1",
          "2057699418-31398-91-1",
          "2057699438-31398-111-13",
          "2057699388-31398-61-12",
          "2057699418-31398-91-5",
          "2057699398-31398-71-7",
          "2039742564-31124-101-13",
          "2041380874-31149-11-10",
          "2057699388-31398-61-10",
          "2041380874-31149-11-7",
          "2041380874-31149-11-8",
          "2057699408-31398-81-11",
          "2057699418-31398-91-2",
          "2057699398-31398-71-1",
          "2057699418-31398-91-4",
          "2039742554-31124-91-9",
          "2057699408-31398-81-2",
          "2039742554-31124-91-7",
          "2057699408-31398-81-9",
          "2032926790-31020-71-2",
          "2039742554-31124-91-8",
          "2039742554-31124-91-10",
          "2057699438-31398-111-12",
          "2057699388-31398-61-4",
          "2057699438-31398-111-9",
          "2057699438-31398-111-16",
          "2057699398-31398-71-10",
          "2057699438-31398-111-10",
          "2039742554-31124-91-1",
          "2041380874-31149-11-9",
          "2057699398-31398-71-8",
          "2057699408-31398-81-1",
          "2057699388-31398-61-8",
          "2057699388-31398-61-6",
          "2057699438-31398-111-11",
          "2057699388-31398-61-1",
          "2057699438-31398-111-15",
          "2057699408-31398-81-10",
          "2057699408-31398-81-12",
          "2057699408-31398-81-6",
          "2032926790-31020-71-7",
          "2039742564-31124-101-12",
          "2057699438-31398-111-7",
          "2057699438-31398-111-5",
          "2057699388-31398-61-11",
          "2057699398-31398-71-6",
          "2057699398-31398-71-11",
          "2057699408-31398-81-4",
          "2039742564-31124-101-10",
          "2039742564-31124-101-5",
          "2039742564-31124-101-11",
          "2039742554-31124-91-6",
          "2057699398-31398-71-4",
          "2057699408-31398-81-5",
          "2057699438-31398-111-2",
          "2039742564-31124-101-9",
          "2057699398-31398-71-2",
          "2057699398-31398-71-9",
          "2039742564-31124-101-2",
          "2041380874-31149-11-5",
          "2039742554-31124-91-12",
          "2041380874-31149-11-4",
          "2057699438-31398-111-8",
          "2057699408-31398-81-7",
          "2032926790-31020-71-4",
          "2032926790-31020-71-12",
          "2057699388-31398-61-2",
          "2057699388-31398-61-7",
          "2057699438-31398-111-3",
          "2039742564-31124-101-3",
          "2039742554-31124-91-3",
          "2057699388-31398-61-9",
          "2039742554-31124-91-4",
          "2057699408-31398-81-8",
          "2039742554-31124-91-11",
          "2039742564-31124-101-8",
          "2039742564-31124-101-1",
          "2057699408-31398-81-3",
          "2039742554-31124-91-5",
          "2057699438-31398-111-1",
          "2057699388-31398-61-5",
          "2039742554-31124-91-2",
          "2057699388-31398-61-3",
          "2039742564-31124-101-7",
          "2041380874-31149-11-6",
          "2057699438-31398-111-4",
          "2057699438-31398-111-6",
          "2057699398-31398-71-3",
          "2032926790-31020-72-11",
          "2032926790-31020-72-3",
          "2039742564-31124-101-4",
          "2057699398-31398-71-5",
          "2032926790-31020-72-5",
          "2039742564-31124-101-6",
          "2032926790-31020-72-8",
          "2032926790-31020-72-15",
          "2032926790-31020-72-13",
          "2032926790-31020-72-10",
          "2057699418-31398-91-6",
          "2057699418-31398-91-3",
          "2057044078-31388-111-13",
          "2032795658-31018-11-19",
          "2057044278-31388-311-7",
          "2032795658-31018-11-3",
          "2032795658-31018-11-11",
          "2032795658-31018-11-10",
          "2032795658-31018-11-20",
          "2032795658-31018-11-5",
          "2032795658-31018-11-18",
          "2032795658-31018-11-4",
          "2032795658-31018-11-9",
          "2032795658-31018-11-7",
          "2032795658-31018-11-15",
          "2057044278-31388-311-16",
          "2032795658-31018-11-6",
          "2032795658-31018-11-17",
          "2032795658-31018-11-14",
          "2057044278-31388-311-15",
          "2032795658-31018-11-13",
          "2032795658-31018-11-24",
          "2032795658-31018-11-2",
          "2032795658-31018-11-23",
          "2032795658-31018-11-22",
          "2032795658-31018-11-16",
          "2057044278-31388-311-17",
          "2032795658-31018-11-12",
          "2032795658-31018-11-8",
          "2032927010-31020-292-30",
          "2057044278-31388-311-4",
          "2032795658-31018-11-1",
          "2057044278-31388-311-2",
          "2057044278-31388-311-8",
          "2057044078-31388-111-10",
          "2057044278-31388-311-11",
          "2032927010-31020-291-6",
          "2032337046-31011-151-3",
          "2032795658-31018-11-21",
          "2032927010-31020-291-22",
          "2032927010-31020-291-8",
          "2057044278-31388-311-1",
          "2057044278-31388-311-9",
          "2057044278-31388-311-14",
          "2057044078-31388-111-11",
          "2057044278-31388-311-12",
          "2057044278-31388-311-5",
          "2032927010-31020-292-24",
          "2057044278-31388-311-6",
          "2032927010-31020-291-20",
          "2032337046-31011-151-4",
          "2032337046-31011-151-5",
          "2057044278-31388-311-13",
          "2032927010-31020-291-9",
          "2032927010-31020-291-11",
          "2032927010-31020-291-15",
          "2032927010-31020-292-35",
          "2057044078-31388-111-1",
          "2032927010-31020-291-12",
          "2032927010-31020-292-31",
          "2032927010-31020-292-25",
          "2032927010-31020-291-10",
          "2032927010-31020-291-23",
          "2057044278-31388-311-3",
          "2032927010-31020-292-29",
          "2032927010-31020-292-33",
          "2032927010-31020-291-3",
          "2032927010-31020-292-28",
          "2032927010-31020-291-4",
          "2032927010-31020-291-13",
          "2032927010-31020-291-2",
          "2057044078-31388-111-9",
          "2032927010-31020-292-26",
          "2032927010-31020-292-32",
          "2057044078-31388-111-4",
          "2032927010-31020-291-18",
          "2032927010-31020-292-27",
          "2032927010-31020-292-34",
          "2032337046-31011-151-2",
          "2032337046-31011-151-1",
          "2057044078-31388-111-8",
          "2032927010-31020-292-37",
          "2057044078-31388-111-3",
          "2032927010-31020-291-21",
          "2032927010-31020-291-14",
          "2032927010-31020-291-1",
          "2057044078-31388-111-12",
          "2032927010-31020-291-7",
          "2032927010-31020-291-19",
          "2032337046-31011-151-6",
          "2032927010-31020-292-36",
          "2057044078-31388-111-2",
          "2057044078-31388-111-5",
          "2032927010-31020-291-16",
          "2032927010-31020-291-17",
          "2032927010-31020-291-5",
          "2057044078-31388-111-6",
          "2057044278-31388-311-10"
         ],
         "legendgroup": "",
         "marker": {
          "color": [
           1,
           1,
           1,
           1,
           1,
           1,
           1,
           1,
           1,
           1,
           1,
           1,
           1,
           1,
           1,
           1,
           1,
           1,
           1,
           1,
           1,
           1,
           1,
           1,
           1,
           1,
           1,
           1,
           1,
           1,
           1,
           1,
           1,
           1,
           1,
           1,
           1,
           1,
           1,
           1,
           1,
           1,
           1,
           1,
           1,
           1,
           1,
           1,
           1,
           1,
           1,
           1,
           1,
           1,
           1,
           1,
           1,
           1,
           1,
           1,
           1,
           1,
           1,
           1,
           1,
           1,
           1,
           1,
           1,
           1,
           1,
           1,
           1,
           1,
           1,
           1,
           1,
           1,
           1,
           1,
           1,
           1,
           1,
           1,
           1,
           1,
           1,
           1,
           1,
           1,
           1,
           1,
           1,
           1,
           1,
           1,
           1,
           1,
           1,
           1,
           1,
           1,
           1,
           0,
           1,
           1,
           1,
           1,
           1,
           1,
           1,
           1,
           1,
           1,
           0,
           1,
           1,
           1,
           0,
           1,
           1,
           1,
           1,
           1,
           1,
           0,
           1,
           1,
           1,
           0,
           1,
           1,
           1,
           0,
           1,
           0,
           0,
           0,
           0,
           0,
           0,
           0,
           0,
           0,
           1,
           0,
           0,
           0,
           0,
           0,
           0,
           0,
           0,
           0,
           0,
           0,
           0,
           0,
           0,
           0,
           0,
           0,
           0,
           0,
           0,
           0,
           0,
           0,
           0,
           0,
           0,
           0,
           0,
           0,
           0,
           0,
           0,
           0,
           0,
           0,
           0,
           0,
           0,
           0,
           0,
           0,
           0,
           0,
           0,
           0,
           0,
           0,
           0,
           0,
           0,
           0,
           0
          ],
          "coloraxis": "coloraxis",
          "size": [
           921.0,
           942.0,
           31.0,
           61.0,
           79.0,
           109.0,
           36.0,
           55.0,
           77.0,
           77.0,
           433.0,
           401.0,
           239.0,
           420.0,
           1486.0,
           334.0,
           1190.0,
           1001.0,
           1190.0,
           239.0,
           1741.0,
           1191.0,
           1191.0,
           109.0,
           957.0,
           297.0,
           193.0,
           227.0,
           169.0,
           740.0,
           54.0,
           225.0,
           1181.0,
           553.0,
           1122.0,
           194.0,
           971.0,
           169.0,
           289.0,
           289.0,
           1206.0,
           850.0,
           742.0,
           1077.0,
           897.0,
           82.0,
           1811.0,
           216.0,
           806.0,
           742.0,
           255.0,
           742.0,
           679.0,
           867.0,
           848.0,
           1120.0,
           742.0,
           851.0,
           214.0,
           680.0,
           1158.0,
           222.0,
           1157.0,
           234.0,
           512.0,
           959.0,
           958.0,
           965.0,
           553.0,
           661.0,
           830.0,
           279.0,
           82.0,
           496.0,
           618.0,
           238.0,
           534.0,
           601.0,
           909.0,
           985.0,
           489.0,
           892.0,
           917.0,
           852.0,
           814.0,
           7.0,
           509.0,
           1073.0,
           818.0,
           553.0,
           980.0,
           87.0,
           1075.0,
           679.0,
           118.0,
           830.0,
           887.0,
           681.0,
           642.0,
           233.0,
           191.0,
           9.0,
           100.0,
           195.0,
           827.0,
           712.0,
           319.0,
           163.0,
           1028.0,
           217.0,
           1042.0,
           321.0,
           548.0,
           821.0,
           468.0,
           444.0,
           221.0,
           1230.0,
           467.0,
           373.0,
           111.0,
           1132.0,
           102.0,
           135.0,
           1503.0,
           39.0,
           766.0,
           1167.0,
           639.0,
           254.0,
           2116.0,
           732.0,
           654.0,
           943.0,
           349.0,
           1156.0,
           1620.0,
           135.0,
           504.0,
           676.0,
           539.0,
           745.0,
           648.0,
           943.0,
           502.0,
           302.0,
           1098.0,
           214.0,
           91.0,
           1450.0,
           1876.0,
           641.0,
           748.0,
           395.0,
           192.0,
           233.0,
           957.0,
           391.0,
           432.0,
           1035.0,
           343.0,
           803.0,
           365.0,
           709.0,
           407.0,
           1075.0,
           670.0,
           886.0,
           373.0,
           1037.0,
           551.0,
           829.0,
           409.0,
           1139.0,
           92.0,
           767.0,
           235.0,
           1553.0,
           2047.0,
           550.0,
           173.0,
           585.0,
           373.0,
           357.0,
           740.0,
           47.0,
           398.0,
           84.0,
           1548.0,
           79.0,
           935.0,
           776.0,
           254.0,
           140.0,
           845.0,
           930.0,
           680.0
          ],
          "sizemode": "area",
          "sizeref": 5.29,
          "symbol": "circle"
         },
         "mode": "markers",
         "name": "",
         "orientation": "v",
         "showlegend": false,
         "x": [
          "204138087431149",
          "204138087431149",
          "205769941831398",
          "205769943831398",
          "205769938831398",
          "205769941831398",
          "205769939831398",
          "203974256431124",
          "204138087431149",
          "205769938831398",
          "204138087431149",
          "204138087431149",
          "205769940831398",
          "205769941831398",
          "205769939831398",
          "205769941831398",
          "203974255431124",
          "205769940831398",
          "203974255431124",
          "205769940831398",
          "203292679031020",
          "203974255431124",
          "203974255431124",
          "205769943831398",
          "205769938831398",
          "205769943831398",
          "205769943831398",
          "205769939831398",
          "205769943831398",
          "203974255431124",
          "204138087431149",
          "205769939831398",
          "205769940831398",
          "205769938831398",
          "205769938831398",
          "205769943831398",
          "205769938831398",
          "205769943831398",
          "205769940831398",
          "205769940831398",
          "205769940831398",
          "203292679031020",
          "203974256431124",
          "205769943831398",
          "205769943831398",
          "205769938831398",
          "205769939831398",
          "205769939831398",
          "205769940831398",
          "203974256431124",
          "203974256431124",
          "203974256431124",
          "203974255431124",
          "205769939831398",
          "205769940831398",
          "205769943831398",
          "203974256431124",
          "205769939831398",
          "205769939831398",
          "203974256431124",
          "204138087431149",
          "203974255431124",
          "204138087431149",
          "205769943831398",
          "205769940831398",
          "203292679031020",
          "203292679031020",
          "205769938831398",
          "205769938831398",
          "205769943831398",
          "203974256431124",
          "203974255431124",
          "205769938831398",
          "203974255431124",
          "205769940831398",
          "203974255431124",
          "203974256431124",
          "203974256431124",
          "205769940831398",
          "203974255431124",
          "205769943831398",
          "205769938831398",
          "203974255431124",
          "205769938831398",
          "203974256431124",
          "204138087431149",
          "205769943831398",
          "205769943831398",
          "205769939831398",
          "203292679031020",
          "203292679031020",
          "203974256431124",
          "205769939831398",
          "203292679031020",
          "203974256431124",
          "203292679031020",
          "203292679031020",
          "203292679031020",
          "203292679031020",
          "205769941831398",
          "205769941831398",
          "205704407831388",
          "203279565831018",
          "205704427831388",
          "203279565831018",
          "203279565831018",
          "203279565831018",
          "203279565831018",
          "203279565831018",
          "203279565831018",
          "203279565831018",
          "203279565831018",
          "203279565831018",
          "203279565831018",
          "205704427831388",
          "203279565831018",
          "203279565831018",
          "203279565831018",
          "205704427831388",
          "203279565831018",
          "203279565831018",
          "203279565831018",
          "203279565831018",
          "203279565831018",
          "203279565831018",
          "205704427831388",
          "203279565831018",
          "203279565831018",
          "203292701031020",
          "205704427831388",
          "203279565831018",
          "205704427831388",
          "205704427831388",
          "205704407831388",
          "205704427831388",
          "203292701031020",
          "203233704631011",
          "203279565831018",
          "203292701031020",
          "203292701031020",
          "205704427831388",
          "205704427831388",
          "205704427831388",
          "205704407831388",
          "205704427831388",
          "205704427831388",
          "203292701031020",
          "205704427831388",
          "203292701031020",
          "203233704631011",
          "203233704631011",
          "205704427831388",
          "203292701031020",
          "203292701031020",
          "203292701031020",
          "203292701031020",
          "205704407831388",
          "203292701031020",
          "203292701031020",
          "203292701031020",
          "203292701031020",
          "203292701031020",
          "205704427831388",
          "203292701031020",
          "203292701031020",
          "203292701031020",
          "203292701031020",
          "203292701031020",
          "203292701031020",
          "203292701031020",
          "205704407831388",
          "203292701031020",
          "203292701031020",
          "205704407831388",
          "203292701031020",
          "203292701031020",
          "203292701031020",
          "203233704631011",
          "203233704631011",
          "205704407831388",
          "203292701031020",
          "205704407831388",
          "203292701031020",
          "203292701031020",
          "203292701031020",
          "205704407831388",
          "203292701031020",
          "203292701031020",
          "203233704631011",
          "203292701031020",
          "205704407831388",
          "205704407831388",
          "203292701031020",
          "203292701031020",
          "203292701031020",
          "205704407831388",
          "205704427831388"
         ],
         "xaxis": "x",
         "y": [
          0.002876413634729366,
          0.04791397718597675,
          0.12661005951837861,
          0.17677441380417247,
          0.19644487304612168,
          0.2108204487831164,
          0.2928958166246311,
          0.32202154089920065,
          0.4023356403179563,
          0.4172899618576865,
          0.4963509239696767,
          0.5525787419066441,
          0.5732002651996797,
          0.6657069287458136,
          0.6708865972146463,
          0.6888811694366004,
          0.6997342308390743,
          0.746389464181069,
          0.7914056028901151,
          0.7938700473674151,
          0.8034187708428466,
          0.909111538097246,
          0.9861594010343792,
          1.0355451043764532,
          1.0916639799598304,
          1.149624500907222,
          1.1856756772029893,
          1.1865139812261345,
          1.2368459589743799,
          1.298008097438137,
          1.5244310710151567,
          1.5500444559913955,
          1.6192307020642913,
          1.6221902701803734,
          1.6889352275711236,
          1.787529787042615,
          1.8009883469745593,
          1.8020879172407551,
          1.9563011466684446,
          2.101527029129868,
          2.14596151036257,
          2.199011804504931,
          2.3852009243335552,
          2.5100289097511435,
          2.6036444425141436,
          2.611478300480278,
          2.6605565185501745,
          2.663741501855634,
          2.8912921148632935,
          2.9080610823140716,
          2.977531548278574,
          2.9963367391662747,
          3.082529961818306,
          3.2478932152479696,
          3.717183712473463,
          3.9955189106621805,
          4.078946593447178,
          4.5682385891297,
          4.718348674421054,
          4.799188280210662,
          4.836949699915699,
          4.9132411715156366,
          4.9278711775513155,
          4.958454315855814,
          5.394901768465153,
          5.447025014928337,
          5.52666698033374,
          5.604969727741846,
          6.1433043269019105,
          6.299130642166031,
          6.856325812485126,
          7.0068171584527645,
          7.36672947411015,
          7.476222753877639,
          7.583216044931597,
          7.793567406930109,
          8.11841163555411,
          8.195401277226892,
          8.592490779689385,
          9.065691784875996,
          9.706569902760346,
          12.583495525271692,
          12.678375965531716,
          13.635170709533558,
          16.26055510460327,
          17.523817837229462,
          18.854294602632827,
          20.47164097424535,
          26.670912933682043,
          30.091895211455867,
          33.650228213366525,
          35.75489572913937,
          40.49119287850575,
          42.534772252970676,
          42.60152961146834,
          46.72340316183985,
          47.75039344681615,
          48.33277093301226,
          56.537981930471716,
          97.78482484277784,
          466.5103710626389,
          18204.586670635123,
          25262.483929571725,
          34019.5966665186,
          37041.87023164341,
          37139.76581001882,
          38139.498765624674,
          40275.058654081025,
          41904.93677181436,
          42558.46181893738,
          42799.26537766052,
          46632.34530765235,
          47906.07240253962,
          48410.26266961843,
          49040.82133167785,
          50096.87796122363,
          50127.90592854754,
          56237.88738827503,
          56406.81886176869,
          58094.77758806719,
          58608.620460487924,
          60200.98235975336,
          62668.514410827025,
          63838.29943661266,
          66907.62817251487,
          73167.69038939297,
          73927.68227983241,
          79778.96936580022,
          90373.00503599516,
          108642.26031303662,
          116032.21131676328,
          129107.04925659114,
          129642.77546117824,
          132166.37255205412,
          136821.7791646359,
          137089.51425039262,
          142146.5451056015,
          145867.02089975055,
          146254.82727011276,
          155496.83567913788,
          157742.40612937522,
          168984.49120905905,
          172519.68503636846,
          172989.73008049268,
          175648.33222163477,
          183702.13237458564,
          195040.06541407594,
          209164.1388944496,
          215232.6157001833,
          215960.31699903912,
          218647.7474071504,
          225479.43547899442,
          239264.86776888947,
          243983.19891836346,
          246081.6192256872,
          251341.72687538277,
          251470.19855031543,
          255134.9694154409,
          255921.95196117606,
          265371.01916313655,
          273965.35695019434,
          274051.3469414804,
          274058.0660372506,
          275536.16600742587,
          278490.2426935421,
          285640.3714354777,
          298150.52011707466,
          306944.23478302633,
          319065.4781323181,
          328228.69170807383,
          329148.6468347249,
          336235.0171489763,
          346095.8836966055,
          349460.87574051676,
          352870.4719987446,
          357573.34594404086,
          359903.1998699373,
          361166.4931542353,
          364411.77421378216,
          377604.45367354614,
          393427.7020982197,
          399860.0847336029,
          400931.3409651663,
          403531.8170868375,
          403996.0448849756,
          411249.4611963577,
          435962.77474690205,
          436203.2076876425,
          455162.44323216734,
          459969.1798349022,
          467782.8340299387,
          474063.25809743506,
          476907.82527925784,
          510293.86051880417,
          598436.6121405343,
          638722.191102574,
          644643.7372716417
         ],
         "yaxis": "y",
         "type": "scatter"
        }
       ],
       "layout": {
        "template": {
         "data": {
          "bar": [
           {
            "error_x": {
             "color": "#f2f5fa"
            },
            "error_y": {
             "color": "#f2f5fa"
            },
            "marker": {
             "line": {
              "color": "rgb(17,17,17)",
              "width": 0.5
             },
             "pattern": {
              "fillmode": "overlay",
              "size": 10,
              "solidity": 0.2
             }
            },
            "type": "bar"
           }
          ],
          "barpolar": [
           {
            "marker": {
             "line": {
              "color": "rgb(17,17,17)",
              "width": 0.5
             },
             "pattern": {
              "fillmode": "overlay",
              "size": 10,
              "solidity": 0.2
             }
            },
            "type": "barpolar"
           }
          ],
          "carpet": [
           {
            "aaxis": {
             "endlinecolor": "#A2B1C6",
             "gridcolor": "#506784",
             "linecolor": "#506784",
             "minorgridcolor": "#506784",
             "startlinecolor": "#A2B1C6"
            },
            "baxis": {
             "endlinecolor": "#A2B1C6",
             "gridcolor": "#506784",
             "linecolor": "#506784",
             "minorgridcolor": "#506784",
             "startlinecolor": "#A2B1C6"
            },
            "type": "carpet"
           }
          ],
          "choropleth": [
           {
            "colorbar": {
             "outlinewidth": 0,
             "ticks": ""
            },
            "type": "choropleth"
           }
          ],
          "contour": [
           {
            "colorbar": {
             "outlinewidth": 0,
             "ticks": ""
            },
            "colorscale": [
             [
              0.0,
              "#0d0887"
             ],
             [
              0.1111111111111111,
              "#46039f"
             ],
             [
              0.2222222222222222,
              "#7201a8"
             ],
             [
              0.3333333333333333,
              "#9c179e"
             ],
             [
              0.4444444444444444,
              "#bd3786"
             ],
             [
              0.5555555555555556,
              "#d8576b"
             ],
             [
              0.6666666666666666,
              "#ed7953"
             ],
             [
              0.7777777777777778,
              "#fb9f3a"
             ],
             [
              0.8888888888888888,
              "#fdca26"
             ],
             [
              1.0,
              "#f0f921"
             ]
            ],
            "type": "contour"
           }
          ],
          "contourcarpet": [
           {
            "colorbar": {
             "outlinewidth": 0,
             "ticks": ""
            },
            "type": "contourcarpet"
           }
          ],
          "heatmap": [
           {
            "colorbar": {
             "outlinewidth": 0,
             "ticks": ""
            },
            "colorscale": [
             [
              0.0,
              "#0d0887"
             ],
             [
              0.1111111111111111,
              "#46039f"
             ],
             [
              0.2222222222222222,
              "#7201a8"
             ],
             [
              0.3333333333333333,
              "#9c179e"
             ],
             [
              0.4444444444444444,
              "#bd3786"
             ],
             [
              0.5555555555555556,
              "#d8576b"
             ],
             [
              0.6666666666666666,
              "#ed7953"
             ],
             [
              0.7777777777777778,
              "#fb9f3a"
             ],
             [
              0.8888888888888888,
              "#fdca26"
             ],
             [
              1.0,
              "#f0f921"
             ]
            ],
            "type": "heatmap"
           }
          ],
          "heatmapgl": [
           {
            "colorbar": {
             "outlinewidth": 0,
             "ticks": ""
            },
            "colorscale": [
             [
              0.0,
              "#0d0887"
             ],
             [
              0.1111111111111111,
              "#46039f"
             ],
             [
              0.2222222222222222,
              "#7201a8"
             ],
             [
              0.3333333333333333,
              "#9c179e"
             ],
             [
              0.4444444444444444,
              "#bd3786"
             ],
             [
              0.5555555555555556,
              "#d8576b"
             ],
             [
              0.6666666666666666,
              "#ed7953"
             ],
             [
              0.7777777777777778,
              "#fb9f3a"
             ],
             [
              0.8888888888888888,
              "#fdca26"
             ],
             [
              1.0,
              "#f0f921"
             ]
            ],
            "type": "heatmapgl"
           }
          ],
          "histogram": [
           {
            "marker": {
             "pattern": {
              "fillmode": "overlay",
              "size": 10,
              "solidity": 0.2
             }
            },
            "type": "histogram"
           }
          ],
          "histogram2d": [
           {
            "colorbar": {
             "outlinewidth": 0,
             "ticks": ""
            },
            "colorscale": [
             [
              0.0,
              "#0d0887"
             ],
             [
              0.1111111111111111,
              "#46039f"
             ],
             [
              0.2222222222222222,
              "#7201a8"
             ],
             [
              0.3333333333333333,
              "#9c179e"
             ],
             [
              0.4444444444444444,
              "#bd3786"
             ],
             [
              0.5555555555555556,
              "#d8576b"
             ],
             [
              0.6666666666666666,
              "#ed7953"
             ],
             [
              0.7777777777777778,
              "#fb9f3a"
             ],
             [
              0.8888888888888888,
              "#fdca26"
             ],
             [
              1.0,
              "#f0f921"
             ]
            ],
            "type": "histogram2d"
           }
          ],
          "histogram2dcontour": [
           {
            "colorbar": {
             "outlinewidth": 0,
             "ticks": ""
            },
            "colorscale": [
             [
              0.0,
              "#0d0887"
             ],
             [
              0.1111111111111111,
              "#46039f"
             ],
             [
              0.2222222222222222,
              "#7201a8"
             ],
             [
              0.3333333333333333,
              "#9c179e"
             ],
             [
              0.4444444444444444,
              "#bd3786"
             ],
             [
              0.5555555555555556,
              "#d8576b"
             ],
             [
              0.6666666666666666,
              "#ed7953"
             ],
             [
              0.7777777777777778,
              "#fb9f3a"
             ],
             [
              0.8888888888888888,
              "#fdca26"
             ],
             [
              1.0,
              "#f0f921"
             ]
            ],
            "type": "histogram2dcontour"
           }
          ],
          "mesh3d": [
           {
            "colorbar": {
             "outlinewidth": 0,
             "ticks": ""
            },
            "type": "mesh3d"
           }
          ],
          "parcoords": [
           {
            "line": {
             "colorbar": {
              "outlinewidth": 0,
              "ticks": ""
             }
            },
            "type": "parcoords"
           }
          ],
          "pie": [
           {
            "automargin": true,
            "type": "pie"
           }
          ],
          "scatter": [
           {
            "marker": {
             "line": {
              "color": "#283442"
             }
            },
            "type": "scatter"
           }
          ],
          "scatter3d": [
           {
            "line": {
             "colorbar": {
              "outlinewidth": 0,
              "ticks": ""
             }
            },
            "marker": {
             "colorbar": {
              "outlinewidth": 0,
              "ticks": ""
             }
            },
            "type": "scatter3d"
           }
          ],
          "scattercarpet": [
           {
            "marker": {
             "colorbar": {
              "outlinewidth": 0,
              "ticks": ""
             }
            },
            "type": "scattercarpet"
           }
          ],
          "scattergeo": [
           {
            "marker": {
             "colorbar": {
              "outlinewidth": 0,
              "ticks": ""
             }
            },
            "type": "scattergeo"
           }
          ],
          "scattergl": [
           {
            "marker": {
             "line": {
              "color": "#283442"
             }
            },
            "type": "scattergl"
           }
          ],
          "scattermapbox": [
           {
            "marker": {
             "colorbar": {
              "outlinewidth": 0,
              "ticks": ""
             }
            },
            "type": "scattermapbox"
           }
          ],
          "scatterpolar": [
           {
            "marker": {
             "colorbar": {
              "outlinewidth": 0,
              "ticks": ""
             }
            },
            "type": "scatterpolar"
           }
          ],
          "scatterpolargl": [
           {
            "marker": {
             "colorbar": {
              "outlinewidth": 0,
              "ticks": ""
             }
            },
            "type": "scatterpolargl"
           }
          ],
          "scatterternary": [
           {
            "marker": {
             "colorbar": {
              "outlinewidth": 0,
              "ticks": ""
             }
            },
            "type": "scatterternary"
           }
          ],
          "surface": [
           {
            "colorbar": {
             "outlinewidth": 0,
             "ticks": ""
            },
            "colorscale": [
             [
              0.0,
              "#0d0887"
             ],
             [
              0.1111111111111111,
              "#46039f"
             ],
             [
              0.2222222222222222,
              "#7201a8"
             ],
             [
              0.3333333333333333,
              "#9c179e"
             ],
             [
              0.4444444444444444,
              "#bd3786"
             ],
             [
              0.5555555555555556,
              "#d8576b"
             ],
             [
              0.6666666666666666,
              "#ed7953"
             ],
             [
              0.7777777777777778,
              "#fb9f3a"
             ],
             [
              0.8888888888888888,
              "#fdca26"
             ],
             [
              1.0,
              "#f0f921"
             ]
            ],
            "type": "surface"
           }
          ],
          "table": [
           {
            "cells": {
             "fill": {
              "color": "#506784"
             },
             "line": {
              "color": "rgb(17,17,17)"
             }
            },
            "header": {
             "fill": {
              "color": "#2a3f5f"
             },
             "line": {
              "color": "rgb(17,17,17)"
             }
            },
            "type": "table"
           }
          ]
         },
         "layout": {
          "annotationdefaults": {
           "arrowcolor": "#f2f5fa",
           "arrowhead": 0,
           "arrowwidth": 1
          },
          "autotypenumbers": "strict",
          "coloraxis": {
           "colorbar": {
            "outlinewidth": 0,
            "ticks": ""
           }
          },
          "colorscale": {
           "diverging": [
            [
             0,
             "#8e0152"
            ],
            [
             0.1,
             "#c51b7d"
            ],
            [
             0.2,
             "#de77ae"
            ],
            [
             0.3,
             "#f1b6da"
            ],
            [
             0.4,
             "#fde0ef"
            ],
            [
             0.5,
             "#f7f7f7"
            ],
            [
             0.6,
             "#e6f5d0"
            ],
            [
             0.7,
             "#b8e186"
            ],
            [
             0.8,
             "#7fbc41"
            ],
            [
             0.9,
             "#4d9221"
            ],
            [
             1,
             "#276419"
            ]
           ],
           "sequential": [
            [
             0.0,
             "#0d0887"
            ],
            [
             0.1111111111111111,
             "#46039f"
            ],
            [
             0.2222222222222222,
             "#7201a8"
            ],
            [
             0.3333333333333333,
             "#9c179e"
            ],
            [
             0.4444444444444444,
             "#bd3786"
            ],
            [
             0.5555555555555556,
             "#d8576b"
            ],
            [
             0.6666666666666666,
             "#ed7953"
            ],
            [
             0.7777777777777778,
             "#fb9f3a"
            ],
            [
             0.8888888888888888,
             "#fdca26"
            ],
            [
             1.0,
             "#f0f921"
            ]
           ],
           "sequentialminus": [
            [
             0.0,
             "#0d0887"
            ],
            [
             0.1111111111111111,
             "#46039f"
            ],
            [
             0.2222222222222222,
             "#7201a8"
            ],
            [
             0.3333333333333333,
             "#9c179e"
            ],
            [
             0.4444444444444444,
             "#bd3786"
            ],
            [
             0.5555555555555556,
             "#d8576b"
            ],
            [
             0.6666666666666666,
             "#ed7953"
            ],
            [
             0.7777777777777778,
             "#fb9f3a"
            ],
            [
             0.8888888888888888,
             "#fdca26"
            ],
            [
             1.0,
             "#f0f921"
            ]
           ]
          },
          "colorway": [
           "#636efa",
           "#EF553B",
           "#00cc96",
           "#ab63fa",
           "#FFA15A",
           "#19d3f3",
           "#FF6692",
           "#B6E880",
           "#FF97FF",
           "#FECB52"
          ],
          "font": {
           "color": "#f2f5fa"
          },
          "geo": {
           "bgcolor": "rgb(17,17,17)",
           "lakecolor": "rgb(17,17,17)",
           "landcolor": "rgb(17,17,17)",
           "showlakes": true,
           "showland": true,
           "subunitcolor": "#506784"
          },
          "hoverlabel": {
           "align": "left"
          },
          "hovermode": "closest",
          "mapbox": {
           "style": "dark"
          },
          "paper_bgcolor": "rgb(17,17,17)",
          "plot_bgcolor": "rgb(17,17,17)",
          "polar": {
           "angularaxis": {
            "gridcolor": "#506784",
            "linecolor": "#506784",
            "ticks": ""
           },
           "bgcolor": "rgb(17,17,17)",
           "radialaxis": {
            "gridcolor": "#506784",
            "linecolor": "#506784",
            "ticks": ""
           }
          },
          "scene": {
           "xaxis": {
            "backgroundcolor": "rgb(17,17,17)",
            "gridcolor": "#506784",
            "gridwidth": 2,
            "linecolor": "#506784",
            "showbackground": true,
            "ticks": "",
            "zerolinecolor": "#C8D4E3"
           },
           "yaxis": {
            "backgroundcolor": "rgb(17,17,17)",
            "gridcolor": "#506784",
            "gridwidth": 2,
            "linecolor": "#506784",
            "showbackground": true,
            "ticks": "",
            "zerolinecolor": "#C8D4E3"
           },
           "zaxis": {
            "backgroundcolor": "rgb(17,17,17)",
            "gridcolor": "#506784",
            "gridwidth": 2,
            "linecolor": "#506784",
            "showbackground": true,
            "ticks": "",
            "zerolinecolor": "#C8D4E3"
           }
          },
          "shapedefaults": {
           "line": {
            "color": "#f2f5fa"
           }
          },
          "sliderdefaults": {
           "bgcolor": "#C8D4E3",
           "bordercolor": "rgb(17,17,17)",
           "borderwidth": 1,
           "tickwidth": 0
          },
          "ternary": {
           "aaxis": {
            "gridcolor": "#506784",
            "linecolor": "#506784",
            "ticks": ""
           },
           "baxis": {
            "gridcolor": "#506784",
            "linecolor": "#506784",
            "ticks": ""
           },
           "bgcolor": "rgb(17,17,17)",
           "caxis": {
            "gridcolor": "#506784",
            "linecolor": "#506784",
            "ticks": ""
           }
          },
          "title": {
           "x": 0.05
          },
          "updatemenudefaults": {
           "bgcolor": "#506784",
           "borderwidth": 0
          },
          "xaxis": {
           "automargin": true,
           "gridcolor": "#283442",
           "linecolor": "#506784",
           "ticks": "",
           "title": {
            "standoff": 15
           },
           "zerolinecolor": "#283442",
           "zerolinewidth": 2
          },
          "yaxis": {
           "automargin": true,
           "gridcolor": "#283442",
           "linecolor": "#506784",
           "ticks": "",
           "title": {
            "standoff": 15
           },
           "zerolinecolor": "#283442",
           "zerolinewidth": 2
          }
         }
        },
        "xaxis": {
         "anchor": "y",
         "domain": [
          0.0,
          1.0
         ],
         "title": {
          "text": "jnct_id"
         }
        },
        "yaxis": {
         "anchor": "x",
         "domain": [
          0.0,
          1.0
         ],
         "title": {
          "text": "Score"
         }
        },
        "coloraxis": {
         "colorbar": {
          "title": {
           "text": "K_means_2"
          }
         },
         "colorscale": [
          [
           0.0,
           "rgb(253, 224, 197)"
          ],
          [
           0.16666666666666666,
           "rgb(250, 203, 166)"
          ],
          [
           0.3333333333333333,
           "rgb(248, 181, 139)"
          ],
          [
           0.5,
           "rgb(245, 158, 114)"
          ],
          [
           0.6666666666666666,
           "rgb(242, 133, 93)"
          ],
          [
           0.8333333333333334,
           "rgb(239, 106, 76)"
          ],
          [
           1.0,
           "rgb(235, 74, 64)"
          ]
         ]
        },
        "legend": {
         "tracegroupgap": 0,
         "itemsizing": "constant"
        },
        "margin": {
         "t": 60
        }
       },
       "config": {
        "plotlyServerURL": "https://plot.ly"
       }
      },
      "text/html": "<div>                            <div id=\"af39524c-bf19-491c-841a-0ad01054902f\" class=\"plotly-graph-div\" style=\"height:525px; width:100%;\"></div>            <script type=\"text/javascript\">                require([\"plotly\"], function(Plotly) {                    window.PLOTLYENV=window.PLOTLYENV || {};                                    if (document.getElementById(\"af39524c-bf19-491c-841a-0ad01054902f\")) {                    Plotly.newPlot(                        \"af39524c-bf19-491c-841a-0ad01054902f\",                        [{\"hovertemplate\":\"<b>%{hovertext}</b><br><br>jnct_id=%{x}<br>Score=%{y}<br>NumSeq=%{marker.size}<br>K_means_2=%{marker.color}<extra></extra>\",\"hovertext\":[\"2041380874-31149-11-2\",\"2041380874-31149-11-1\",\"2057699418-31398-91-1\",\"2057699438-31398-111-13\",\"2057699388-31398-61-12\",\"2057699418-31398-91-5\",\"2057699398-31398-71-7\",\"2039742564-31124-101-13\",\"2041380874-31149-11-10\",\"2057699388-31398-61-10\",\"2041380874-31149-11-7\",\"2041380874-31149-11-8\",\"2057699408-31398-81-11\",\"2057699418-31398-91-2\",\"2057699398-31398-71-1\",\"2057699418-31398-91-4\",\"2039742554-31124-91-9\",\"2057699408-31398-81-2\",\"2039742554-31124-91-7\",\"2057699408-31398-81-9\",\"2032926790-31020-71-2\",\"2039742554-31124-91-8\",\"2039742554-31124-91-10\",\"2057699438-31398-111-12\",\"2057699388-31398-61-4\",\"2057699438-31398-111-9\",\"2057699438-31398-111-16\",\"2057699398-31398-71-10\",\"2057699438-31398-111-10\",\"2039742554-31124-91-1\",\"2041380874-31149-11-9\",\"2057699398-31398-71-8\",\"2057699408-31398-81-1\",\"2057699388-31398-61-8\",\"2057699388-31398-61-6\",\"2057699438-31398-111-11\",\"2057699388-31398-61-1\",\"2057699438-31398-111-15\",\"2057699408-31398-81-10\",\"2057699408-31398-81-12\",\"2057699408-31398-81-6\",\"2032926790-31020-71-7\",\"2039742564-31124-101-12\",\"2057699438-31398-111-7\",\"2057699438-31398-111-5\",\"2057699388-31398-61-11\",\"2057699398-31398-71-6\",\"2057699398-31398-71-11\",\"2057699408-31398-81-4\",\"2039742564-31124-101-10\",\"2039742564-31124-101-5\",\"2039742564-31124-101-11\",\"2039742554-31124-91-6\",\"2057699398-31398-71-4\",\"2057699408-31398-81-5\",\"2057699438-31398-111-2\",\"2039742564-31124-101-9\",\"2057699398-31398-71-2\",\"2057699398-31398-71-9\",\"2039742564-31124-101-2\",\"2041380874-31149-11-5\",\"2039742554-31124-91-12\",\"2041380874-31149-11-4\",\"2057699438-31398-111-8\",\"2057699408-31398-81-7\",\"2032926790-31020-71-4\",\"2032926790-31020-71-12\",\"2057699388-31398-61-2\",\"2057699388-31398-61-7\",\"2057699438-31398-111-3\",\"2039742564-31124-101-3\",\"2039742554-31124-91-3\",\"2057699388-31398-61-9\",\"2039742554-31124-91-4\",\"2057699408-31398-81-8\",\"2039742554-31124-91-11\",\"2039742564-31124-101-8\",\"2039742564-31124-101-1\",\"2057699408-31398-81-3\",\"2039742554-31124-91-5\",\"2057699438-31398-111-1\",\"2057699388-31398-61-5\",\"2039742554-31124-91-2\",\"2057699388-31398-61-3\",\"2039742564-31124-101-7\",\"2041380874-31149-11-6\",\"2057699438-31398-111-4\",\"2057699438-31398-111-6\",\"2057699398-31398-71-3\",\"2032926790-31020-72-11\",\"2032926790-31020-72-3\",\"2039742564-31124-101-4\",\"2057699398-31398-71-5\",\"2032926790-31020-72-5\",\"2039742564-31124-101-6\",\"2032926790-31020-72-8\",\"2032926790-31020-72-15\",\"2032926790-31020-72-13\",\"2032926790-31020-72-10\",\"2057699418-31398-91-6\",\"2057699418-31398-91-3\",\"2057044078-31388-111-13\",\"2032795658-31018-11-19\",\"2057044278-31388-311-7\",\"2032795658-31018-11-3\",\"2032795658-31018-11-11\",\"2032795658-31018-11-10\",\"2032795658-31018-11-20\",\"2032795658-31018-11-5\",\"2032795658-31018-11-18\",\"2032795658-31018-11-4\",\"2032795658-31018-11-9\",\"2032795658-31018-11-7\",\"2032795658-31018-11-15\",\"2057044278-31388-311-16\",\"2032795658-31018-11-6\",\"2032795658-31018-11-17\",\"2032795658-31018-11-14\",\"2057044278-31388-311-15\",\"2032795658-31018-11-13\",\"2032795658-31018-11-24\",\"2032795658-31018-11-2\",\"2032795658-31018-11-23\",\"2032795658-31018-11-22\",\"2032795658-31018-11-16\",\"2057044278-31388-311-17\",\"2032795658-31018-11-12\",\"2032795658-31018-11-8\",\"2032927010-31020-292-30\",\"2057044278-31388-311-4\",\"2032795658-31018-11-1\",\"2057044278-31388-311-2\",\"2057044278-31388-311-8\",\"2057044078-31388-111-10\",\"2057044278-31388-311-11\",\"2032927010-31020-291-6\",\"2032337046-31011-151-3\",\"2032795658-31018-11-21\",\"2032927010-31020-291-22\",\"2032927010-31020-291-8\",\"2057044278-31388-311-1\",\"2057044278-31388-311-9\",\"2057044278-31388-311-14\",\"2057044078-31388-111-11\",\"2057044278-31388-311-12\",\"2057044278-31388-311-5\",\"2032927010-31020-292-24\",\"2057044278-31388-311-6\",\"2032927010-31020-291-20\",\"2032337046-31011-151-4\",\"2032337046-31011-151-5\",\"2057044278-31388-311-13\",\"2032927010-31020-291-9\",\"2032927010-31020-291-11\",\"2032927010-31020-291-15\",\"2032927010-31020-292-35\",\"2057044078-31388-111-1\",\"2032927010-31020-291-12\",\"2032927010-31020-292-31\",\"2032927010-31020-292-25\",\"2032927010-31020-291-10\",\"2032927010-31020-291-23\",\"2057044278-31388-311-3\",\"2032927010-31020-292-29\",\"2032927010-31020-292-33\",\"2032927010-31020-291-3\",\"2032927010-31020-292-28\",\"2032927010-31020-291-4\",\"2032927010-31020-291-13\",\"2032927010-31020-291-2\",\"2057044078-31388-111-9\",\"2032927010-31020-292-26\",\"2032927010-31020-292-32\",\"2057044078-31388-111-4\",\"2032927010-31020-291-18\",\"2032927010-31020-292-27\",\"2032927010-31020-292-34\",\"2032337046-31011-151-2\",\"2032337046-31011-151-1\",\"2057044078-31388-111-8\",\"2032927010-31020-292-37\",\"2057044078-31388-111-3\",\"2032927010-31020-291-21\",\"2032927010-31020-291-14\",\"2032927010-31020-291-1\",\"2057044078-31388-111-12\",\"2032927010-31020-291-7\",\"2032927010-31020-291-19\",\"2032337046-31011-151-6\",\"2032927010-31020-292-36\",\"2057044078-31388-111-2\",\"2057044078-31388-111-5\",\"2032927010-31020-291-16\",\"2032927010-31020-291-17\",\"2032927010-31020-291-5\",\"2057044078-31388-111-6\",\"2057044278-31388-311-10\"],\"legendgroup\":\"\",\"marker\":{\"color\":[1,1,1,1,1,1,1,1,1,1,1,1,1,1,1,1,1,1,1,1,1,1,1,1,1,1,1,1,1,1,1,1,1,1,1,1,1,1,1,1,1,1,1,1,1,1,1,1,1,1,1,1,1,1,1,1,1,1,1,1,1,1,1,1,1,1,1,1,1,1,1,1,1,1,1,1,1,1,1,1,1,1,1,1,1,1,1,1,1,1,1,1,1,1,1,1,1,1,1,1,1,1,1,0,1,1,1,1,1,1,1,1,1,1,0,1,1,1,0,1,1,1,1,1,1,0,1,1,1,0,1,1,1,0,1,0,0,0,0,0,0,0,0,0,1,0,0,0,0,0,0,0,0,0,0,0,0,0,0,0,0,0,0,0,0,0,0,0,0,0,0,0,0,0,0,0,0,0,0,0,0,0,0,0,0,0,0,0,0,0,0,0,0,0,0,0,0],\"coloraxis\":\"coloraxis\",\"size\":[921.0,942.0,31.0,61.0,79.0,109.0,36.0,55.0,77.0,77.0,433.0,401.0,239.0,420.0,1486.0,334.0,1190.0,1001.0,1190.0,239.0,1741.0,1191.0,1191.0,109.0,957.0,297.0,193.0,227.0,169.0,740.0,54.0,225.0,1181.0,553.0,1122.0,194.0,971.0,169.0,289.0,289.0,1206.0,850.0,742.0,1077.0,897.0,82.0,1811.0,216.0,806.0,742.0,255.0,742.0,679.0,867.0,848.0,1120.0,742.0,851.0,214.0,680.0,1158.0,222.0,1157.0,234.0,512.0,959.0,958.0,965.0,553.0,661.0,830.0,279.0,82.0,496.0,618.0,238.0,534.0,601.0,909.0,985.0,489.0,892.0,917.0,852.0,814.0,7.0,509.0,1073.0,818.0,553.0,980.0,87.0,1075.0,679.0,118.0,830.0,887.0,681.0,642.0,233.0,191.0,9.0,100.0,195.0,827.0,712.0,319.0,163.0,1028.0,217.0,1042.0,321.0,548.0,821.0,468.0,444.0,221.0,1230.0,467.0,373.0,111.0,1132.0,102.0,135.0,1503.0,39.0,766.0,1167.0,639.0,254.0,2116.0,732.0,654.0,943.0,349.0,1156.0,1620.0,135.0,504.0,676.0,539.0,745.0,648.0,943.0,502.0,302.0,1098.0,214.0,91.0,1450.0,1876.0,641.0,748.0,395.0,192.0,233.0,957.0,391.0,432.0,1035.0,343.0,803.0,365.0,709.0,407.0,1075.0,670.0,886.0,373.0,1037.0,551.0,829.0,409.0,1139.0,92.0,767.0,235.0,1553.0,2047.0,550.0,173.0,585.0,373.0,357.0,740.0,47.0,398.0,84.0,1548.0,79.0,935.0,776.0,254.0,140.0,845.0,930.0,680.0],\"sizemode\":\"area\",\"sizeref\":5.29,\"symbol\":\"circle\"},\"mode\":\"markers\",\"name\":\"\",\"orientation\":\"v\",\"showlegend\":false,\"x\":[\"204138087431149\",\"204138087431149\",\"205769941831398\",\"205769943831398\",\"205769938831398\",\"205769941831398\",\"205769939831398\",\"203974256431124\",\"204138087431149\",\"205769938831398\",\"204138087431149\",\"204138087431149\",\"205769940831398\",\"205769941831398\",\"205769939831398\",\"205769941831398\",\"203974255431124\",\"205769940831398\",\"203974255431124\",\"205769940831398\",\"203292679031020\",\"203974255431124\",\"203974255431124\",\"205769943831398\",\"205769938831398\",\"205769943831398\",\"205769943831398\",\"205769939831398\",\"205769943831398\",\"203974255431124\",\"204138087431149\",\"205769939831398\",\"205769940831398\",\"205769938831398\",\"205769938831398\",\"205769943831398\",\"205769938831398\",\"205769943831398\",\"205769940831398\",\"205769940831398\",\"205769940831398\",\"203292679031020\",\"203974256431124\",\"205769943831398\",\"205769943831398\",\"205769938831398\",\"205769939831398\",\"205769939831398\",\"205769940831398\",\"203974256431124\",\"203974256431124\",\"203974256431124\",\"203974255431124\",\"205769939831398\",\"205769940831398\",\"205769943831398\",\"203974256431124\",\"205769939831398\",\"205769939831398\",\"203974256431124\",\"204138087431149\",\"203974255431124\",\"204138087431149\",\"205769943831398\",\"205769940831398\",\"203292679031020\",\"203292679031020\",\"205769938831398\",\"205769938831398\",\"205769943831398\",\"203974256431124\",\"203974255431124\",\"205769938831398\",\"203974255431124\",\"205769940831398\",\"203974255431124\",\"203974256431124\",\"203974256431124\",\"205769940831398\",\"203974255431124\",\"205769943831398\",\"205769938831398\",\"203974255431124\",\"205769938831398\",\"203974256431124\",\"204138087431149\",\"205769943831398\",\"205769943831398\",\"205769939831398\",\"203292679031020\",\"203292679031020\",\"203974256431124\",\"205769939831398\",\"203292679031020\",\"203974256431124\",\"203292679031020\",\"203292679031020\",\"203292679031020\",\"203292679031020\",\"205769941831398\",\"205769941831398\",\"205704407831388\",\"203279565831018\",\"205704427831388\",\"203279565831018\",\"203279565831018\",\"203279565831018\",\"203279565831018\",\"203279565831018\",\"203279565831018\",\"203279565831018\",\"203279565831018\",\"203279565831018\",\"203279565831018\",\"205704427831388\",\"203279565831018\",\"203279565831018\",\"203279565831018\",\"205704427831388\",\"203279565831018\",\"203279565831018\",\"203279565831018\",\"203279565831018\",\"203279565831018\",\"203279565831018\",\"205704427831388\",\"203279565831018\",\"203279565831018\",\"203292701031020\",\"205704427831388\",\"203279565831018\",\"205704427831388\",\"205704427831388\",\"205704407831388\",\"205704427831388\",\"203292701031020\",\"203233704631011\",\"203279565831018\",\"203292701031020\",\"203292701031020\",\"205704427831388\",\"205704427831388\",\"205704427831388\",\"205704407831388\",\"205704427831388\",\"205704427831388\",\"203292701031020\",\"205704427831388\",\"203292701031020\",\"203233704631011\",\"203233704631011\",\"205704427831388\",\"203292701031020\",\"203292701031020\",\"203292701031020\",\"203292701031020\",\"205704407831388\",\"203292701031020\",\"203292701031020\",\"203292701031020\",\"203292701031020\",\"203292701031020\",\"205704427831388\",\"203292701031020\",\"203292701031020\",\"203292701031020\",\"203292701031020\",\"203292701031020\",\"203292701031020\",\"203292701031020\",\"205704407831388\",\"203292701031020\",\"203292701031020\",\"205704407831388\",\"203292701031020\",\"203292701031020\",\"203292701031020\",\"203233704631011\",\"203233704631011\",\"205704407831388\",\"203292701031020\",\"205704407831388\",\"203292701031020\",\"203292701031020\",\"203292701031020\",\"205704407831388\",\"203292701031020\",\"203292701031020\",\"203233704631011\",\"203292701031020\",\"205704407831388\",\"205704407831388\",\"203292701031020\",\"203292701031020\",\"203292701031020\",\"205704407831388\",\"205704427831388\"],\"xaxis\":\"x\",\"y\":[0.002876413634729366,0.04791397718597675,0.12661005951837861,0.17677441380417247,0.19644487304612168,0.2108204487831164,0.2928958166246311,0.32202154089920065,0.4023356403179563,0.4172899618576865,0.4963509239696767,0.5525787419066441,0.5732002651996797,0.6657069287458136,0.6708865972146463,0.6888811694366004,0.6997342308390743,0.746389464181069,0.7914056028901151,0.7938700473674151,0.8034187708428466,0.909111538097246,0.9861594010343792,1.0355451043764532,1.0916639799598304,1.149624500907222,1.1856756772029893,1.1865139812261345,1.2368459589743799,1.298008097438137,1.5244310710151567,1.5500444559913955,1.6192307020642913,1.6221902701803734,1.6889352275711236,1.787529787042615,1.8009883469745593,1.8020879172407551,1.9563011466684446,2.101527029129868,2.14596151036257,2.199011804504931,2.3852009243335552,2.5100289097511435,2.6036444425141436,2.611478300480278,2.6605565185501745,2.663741501855634,2.8912921148632935,2.9080610823140716,2.977531548278574,2.9963367391662747,3.082529961818306,3.2478932152479696,3.717183712473463,3.9955189106621805,4.078946593447178,4.5682385891297,4.718348674421054,4.799188280210662,4.836949699915699,4.9132411715156366,4.9278711775513155,4.958454315855814,5.394901768465153,5.447025014928337,5.52666698033374,5.604969727741846,6.1433043269019105,6.299130642166031,6.856325812485126,7.0068171584527645,7.36672947411015,7.476222753877639,7.583216044931597,7.793567406930109,8.11841163555411,8.195401277226892,8.592490779689385,9.065691784875996,9.706569902760346,12.583495525271692,12.678375965531716,13.635170709533558,16.26055510460327,17.523817837229462,18.854294602632827,20.47164097424535,26.670912933682043,30.091895211455867,33.650228213366525,35.75489572913937,40.49119287850575,42.534772252970676,42.60152961146834,46.72340316183985,47.75039344681615,48.33277093301226,56.537981930471716,97.78482484277784,466.5103710626389,18204.586670635123,25262.483929571725,34019.5966665186,37041.87023164341,37139.76581001882,38139.498765624674,40275.058654081025,41904.93677181436,42558.46181893738,42799.26537766052,46632.34530765235,47906.07240253962,48410.26266961843,49040.82133167785,50096.87796122363,50127.90592854754,56237.88738827503,56406.81886176869,58094.77758806719,58608.620460487924,60200.98235975336,62668.514410827025,63838.29943661266,66907.62817251487,73167.69038939297,73927.68227983241,79778.96936580022,90373.00503599516,108642.26031303662,116032.21131676328,129107.04925659114,129642.77546117824,132166.37255205412,136821.7791646359,137089.51425039262,142146.5451056015,145867.02089975055,146254.82727011276,155496.83567913788,157742.40612937522,168984.49120905905,172519.68503636846,172989.73008049268,175648.33222163477,183702.13237458564,195040.06541407594,209164.1388944496,215232.6157001833,215960.31699903912,218647.7474071504,225479.43547899442,239264.86776888947,243983.19891836346,246081.6192256872,251341.72687538277,251470.19855031543,255134.9694154409,255921.95196117606,265371.01916313655,273965.35695019434,274051.3469414804,274058.0660372506,275536.16600742587,278490.2426935421,285640.3714354777,298150.52011707466,306944.23478302633,319065.4781323181,328228.69170807383,329148.6468347249,336235.0171489763,346095.8836966055,349460.87574051676,352870.4719987446,357573.34594404086,359903.1998699373,361166.4931542353,364411.77421378216,377604.45367354614,393427.7020982197,399860.0847336029,400931.3409651663,403531.8170868375,403996.0448849756,411249.4611963577,435962.77474690205,436203.2076876425,455162.44323216734,459969.1798349022,467782.8340299387,474063.25809743506,476907.82527925784,510293.86051880417,598436.6121405343,638722.191102574,644643.7372716417],\"yaxis\":\"y\",\"type\":\"scatter\"}],                        {\"template\":{\"data\":{\"bar\":[{\"error_x\":{\"color\":\"#f2f5fa\"},\"error_y\":{\"color\":\"#f2f5fa\"},\"marker\":{\"line\":{\"color\":\"rgb(17,17,17)\",\"width\":0.5},\"pattern\":{\"fillmode\":\"overlay\",\"size\":10,\"solidity\":0.2}},\"type\":\"bar\"}],\"barpolar\":[{\"marker\":{\"line\":{\"color\":\"rgb(17,17,17)\",\"width\":0.5},\"pattern\":{\"fillmode\":\"overlay\",\"size\":10,\"solidity\":0.2}},\"type\":\"barpolar\"}],\"carpet\":[{\"aaxis\":{\"endlinecolor\":\"#A2B1C6\",\"gridcolor\":\"#506784\",\"linecolor\":\"#506784\",\"minorgridcolor\":\"#506784\",\"startlinecolor\":\"#A2B1C6\"},\"baxis\":{\"endlinecolor\":\"#A2B1C6\",\"gridcolor\":\"#506784\",\"linecolor\":\"#506784\",\"minorgridcolor\":\"#506784\",\"startlinecolor\":\"#A2B1C6\"},\"type\":\"carpet\"}],\"choropleth\":[{\"colorbar\":{\"outlinewidth\":0,\"ticks\":\"\"},\"type\":\"choropleth\"}],\"contour\":[{\"colorbar\":{\"outlinewidth\":0,\"ticks\":\"\"},\"colorscale\":[[0.0,\"#0d0887\"],[0.1111111111111111,\"#46039f\"],[0.2222222222222222,\"#7201a8\"],[0.3333333333333333,\"#9c179e\"],[0.4444444444444444,\"#bd3786\"],[0.5555555555555556,\"#d8576b\"],[0.6666666666666666,\"#ed7953\"],[0.7777777777777778,\"#fb9f3a\"],[0.8888888888888888,\"#fdca26\"],[1.0,\"#f0f921\"]],\"type\":\"contour\"}],\"contourcarpet\":[{\"colorbar\":{\"outlinewidth\":0,\"ticks\":\"\"},\"type\":\"contourcarpet\"}],\"heatmap\":[{\"colorbar\":{\"outlinewidth\":0,\"ticks\":\"\"},\"colorscale\":[[0.0,\"#0d0887\"],[0.1111111111111111,\"#46039f\"],[0.2222222222222222,\"#7201a8\"],[0.3333333333333333,\"#9c179e\"],[0.4444444444444444,\"#bd3786\"],[0.5555555555555556,\"#d8576b\"],[0.6666666666666666,\"#ed7953\"],[0.7777777777777778,\"#fb9f3a\"],[0.8888888888888888,\"#fdca26\"],[1.0,\"#f0f921\"]],\"type\":\"heatmap\"}],\"heatmapgl\":[{\"colorbar\":{\"outlinewidth\":0,\"ticks\":\"\"},\"colorscale\":[[0.0,\"#0d0887\"],[0.1111111111111111,\"#46039f\"],[0.2222222222222222,\"#7201a8\"],[0.3333333333333333,\"#9c179e\"],[0.4444444444444444,\"#bd3786\"],[0.5555555555555556,\"#d8576b\"],[0.6666666666666666,\"#ed7953\"],[0.7777777777777778,\"#fb9f3a\"],[0.8888888888888888,\"#fdca26\"],[1.0,\"#f0f921\"]],\"type\":\"heatmapgl\"}],\"histogram\":[{\"marker\":{\"pattern\":{\"fillmode\":\"overlay\",\"size\":10,\"solidity\":0.2}},\"type\":\"histogram\"}],\"histogram2d\":[{\"colorbar\":{\"outlinewidth\":0,\"ticks\":\"\"},\"colorscale\":[[0.0,\"#0d0887\"],[0.1111111111111111,\"#46039f\"],[0.2222222222222222,\"#7201a8\"],[0.3333333333333333,\"#9c179e\"],[0.4444444444444444,\"#bd3786\"],[0.5555555555555556,\"#d8576b\"],[0.6666666666666666,\"#ed7953\"],[0.7777777777777778,\"#fb9f3a\"],[0.8888888888888888,\"#fdca26\"],[1.0,\"#f0f921\"]],\"type\":\"histogram2d\"}],\"histogram2dcontour\":[{\"colorbar\":{\"outlinewidth\":0,\"ticks\":\"\"},\"colorscale\":[[0.0,\"#0d0887\"],[0.1111111111111111,\"#46039f\"],[0.2222222222222222,\"#7201a8\"],[0.3333333333333333,\"#9c179e\"],[0.4444444444444444,\"#bd3786\"],[0.5555555555555556,\"#d8576b\"],[0.6666666666666666,\"#ed7953\"],[0.7777777777777778,\"#fb9f3a\"],[0.8888888888888888,\"#fdca26\"],[1.0,\"#f0f921\"]],\"type\":\"histogram2dcontour\"}],\"mesh3d\":[{\"colorbar\":{\"outlinewidth\":0,\"ticks\":\"\"},\"type\":\"mesh3d\"}],\"parcoords\":[{\"line\":{\"colorbar\":{\"outlinewidth\":0,\"ticks\":\"\"}},\"type\":\"parcoords\"}],\"pie\":[{\"automargin\":true,\"type\":\"pie\"}],\"scatter\":[{\"marker\":{\"line\":{\"color\":\"#283442\"}},\"type\":\"scatter\"}],\"scatter3d\":[{\"line\":{\"colorbar\":{\"outlinewidth\":0,\"ticks\":\"\"}},\"marker\":{\"colorbar\":{\"outlinewidth\":0,\"ticks\":\"\"}},\"type\":\"scatter3d\"}],\"scattercarpet\":[{\"marker\":{\"colorbar\":{\"outlinewidth\":0,\"ticks\":\"\"}},\"type\":\"scattercarpet\"}],\"scattergeo\":[{\"marker\":{\"colorbar\":{\"outlinewidth\":0,\"ticks\":\"\"}},\"type\":\"scattergeo\"}],\"scattergl\":[{\"marker\":{\"line\":{\"color\":\"#283442\"}},\"type\":\"scattergl\"}],\"scattermapbox\":[{\"marker\":{\"colorbar\":{\"outlinewidth\":0,\"ticks\":\"\"}},\"type\":\"scattermapbox\"}],\"scatterpolar\":[{\"marker\":{\"colorbar\":{\"outlinewidth\":0,\"ticks\":\"\"}},\"type\":\"scatterpolar\"}],\"scatterpolargl\":[{\"marker\":{\"colorbar\":{\"outlinewidth\":0,\"ticks\":\"\"}},\"type\":\"scatterpolargl\"}],\"scatterternary\":[{\"marker\":{\"colorbar\":{\"outlinewidth\":0,\"ticks\":\"\"}},\"type\":\"scatterternary\"}],\"surface\":[{\"colorbar\":{\"outlinewidth\":0,\"ticks\":\"\"},\"colorscale\":[[0.0,\"#0d0887\"],[0.1111111111111111,\"#46039f\"],[0.2222222222222222,\"#7201a8\"],[0.3333333333333333,\"#9c179e\"],[0.4444444444444444,\"#bd3786\"],[0.5555555555555556,\"#d8576b\"],[0.6666666666666666,\"#ed7953\"],[0.7777777777777778,\"#fb9f3a\"],[0.8888888888888888,\"#fdca26\"],[1.0,\"#f0f921\"]],\"type\":\"surface\"}],\"table\":[{\"cells\":{\"fill\":{\"color\":\"#506784\"},\"line\":{\"color\":\"rgb(17,17,17)\"}},\"header\":{\"fill\":{\"color\":\"#2a3f5f\"},\"line\":{\"color\":\"rgb(17,17,17)\"}},\"type\":\"table\"}]},\"layout\":{\"annotationdefaults\":{\"arrowcolor\":\"#f2f5fa\",\"arrowhead\":0,\"arrowwidth\":1},\"autotypenumbers\":\"strict\",\"coloraxis\":{\"colorbar\":{\"outlinewidth\":0,\"ticks\":\"\"}},\"colorscale\":{\"diverging\":[[0,\"#8e0152\"],[0.1,\"#c51b7d\"],[0.2,\"#de77ae\"],[0.3,\"#f1b6da\"],[0.4,\"#fde0ef\"],[0.5,\"#f7f7f7\"],[0.6,\"#e6f5d0\"],[0.7,\"#b8e186\"],[0.8,\"#7fbc41\"],[0.9,\"#4d9221\"],[1,\"#276419\"]],\"sequential\":[[0.0,\"#0d0887\"],[0.1111111111111111,\"#46039f\"],[0.2222222222222222,\"#7201a8\"],[0.3333333333333333,\"#9c179e\"],[0.4444444444444444,\"#bd3786\"],[0.5555555555555556,\"#d8576b\"],[0.6666666666666666,\"#ed7953\"],[0.7777777777777778,\"#fb9f3a\"],[0.8888888888888888,\"#fdca26\"],[1.0,\"#f0f921\"]],\"sequentialminus\":[[0.0,\"#0d0887\"],[0.1111111111111111,\"#46039f\"],[0.2222222222222222,\"#7201a8\"],[0.3333333333333333,\"#9c179e\"],[0.4444444444444444,\"#bd3786\"],[0.5555555555555556,\"#d8576b\"],[0.6666666666666666,\"#ed7953\"],[0.7777777777777778,\"#fb9f3a\"],[0.8888888888888888,\"#fdca26\"],[1.0,\"#f0f921\"]]},\"colorway\":[\"#636efa\",\"#EF553B\",\"#00cc96\",\"#ab63fa\",\"#FFA15A\",\"#19d3f3\",\"#FF6692\",\"#B6E880\",\"#FF97FF\",\"#FECB52\"],\"font\":{\"color\":\"#f2f5fa\"},\"geo\":{\"bgcolor\":\"rgb(17,17,17)\",\"lakecolor\":\"rgb(17,17,17)\",\"landcolor\":\"rgb(17,17,17)\",\"showlakes\":true,\"showland\":true,\"subunitcolor\":\"#506784\"},\"hoverlabel\":{\"align\":\"left\"},\"hovermode\":\"closest\",\"mapbox\":{\"style\":\"dark\"},\"paper_bgcolor\":\"rgb(17,17,17)\",\"plot_bgcolor\":\"rgb(17,17,17)\",\"polar\":{\"angularaxis\":{\"gridcolor\":\"#506784\",\"linecolor\":\"#506784\",\"ticks\":\"\"},\"bgcolor\":\"rgb(17,17,17)\",\"radialaxis\":{\"gridcolor\":\"#506784\",\"linecolor\":\"#506784\",\"ticks\":\"\"}},\"scene\":{\"xaxis\":{\"backgroundcolor\":\"rgb(17,17,17)\",\"gridcolor\":\"#506784\",\"gridwidth\":2,\"linecolor\":\"#506784\",\"showbackground\":true,\"ticks\":\"\",\"zerolinecolor\":\"#C8D4E3\"},\"yaxis\":{\"backgroundcolor\":\"rgb(17,17,17)\",\"gridcolor\":\"#506784\",\"gridwidth\":2,\"linecolor\":\"#506784\",\"showbackground\":true,\"ticks\":\"\",\"zerolinecolor\":\"#C8D4E3\"},\"zaxis\":{\"backgroundcolor\":\"rgb(17,17,17)\",\"gridcolor\":\"#506784\",\"gridwidth\":2,\"linecolor\":\"#506784\",\"showbackground\":true,\"ticks\":\"\",\"zerolinecolor\":\"#C8D4E3\"}},\"shapedefaults\":{\"line\":{\"color\":\"#f2f5fa\"}},\"sliderdefaults\":{\"bgcolor\":\"#C8D4E3\",\"bordercolor\":\"rgb(17,17,17)\",\"borderwidth\":1,\"tickwidth\":0},\"ternary\":{\"aaxis\":{\"gridcolor\":\"#506784\",\"linecolor\":\"#506784\",\"ticks\":\"\"},\"baxis\":{\"gridcolor\":\"#506784\",\"linecolor\":\"#506784\",\"ticks\":\"\"},\"bgcolor\":\"rgb(17,17,17)\",\"caxis\":{\"gridcolor\":\"#506784\",\"linecolor\":\"#506784\",\"ticks\":\"\"}},\"title\":{\"x\":0.05},\"updatemenudefaults\":{\"bgcolor\":\"#506784\",\"borderwidth\":0},\"xaxis\":{\"automargin\":true,\"gridcolor\":\"#283442\",\"linecolor\":\"#506784\",\"ticks\":\"\",\"title\":{\"standoff\":15},\"zerolinecolor\":\"#283442\",\"zerolinewidth\":2},\"yaxis\":{\"automargin\":true,\"gridcolor\":\"#283442\",\"linecolor\":\"#506784\",\"ticks\":\"\",\"title\":{\"standoff\":15},\"zerolinecolor\":\"#283442\",\"zerolinewidth\":2}}},\"xaxis\":{\"anchor\":\"y\",\"domain\":[0.0,1.0],\"title\":{\"text\":\"jnct_id\"}},\"yaxis\":{\"anchor\":\"x\",\"domain\":[0.0,1.0],\"title\":{\"text\":\"Score\"}},\"coloraxis\":{\"colorbar\":{\"title\":{\"text\":\"K_means_2\"}},\"colorscale\":[[0.0,\"rgb(253, 224, 197)\"],[0.16666666666666666,\"rgb(250, 203, 166)\"],[0.3333333333333333,\"rgb(248, 181, 139)\"],[0.5,\"rgb(245, 158, 114)\"],[0.6666666666666666,\"rgb(242, 133, 93)\"],[0.8333333333333334,\"rgb(239, 106, 76)\"],[1.0,\"rgb(235, 74, 64)\"]]},\"legend\":{\"tracegroupgap\":0,\"itemsizing\":\"constant\"},\"margin\":{\"t\":60}},                        {\"responsive\": true}                    ).then(function(){\n                            \nvar gd = document.getElementById('af39524c-bf19-491c-841a-0ad01054902f');\nvar x = new MutationObserver(function (mutations, observer) {{\n        var display = window.getComputedStyle(gd).display;\n        if (!display || display === 'none') {{\n            console.log([gd, 'removed!']);\n            Plotly.purge(gd);\n            observer.disconnect();\n        }}\n}});\n\n// Listen for the removal of the full notebook cells\nvar notebookContainer = gd.closest('#notebook-container');\nif (notebookContainer) {{\n    x.observe(notebookContainer, {childList: true});\n}}\n\n// Listen for the clearing of the current output cell\nvar outputEl = gd.closest('.output');\nif (outputEl) {{\n    x.observe(outputEl, {childList: true});\n}}\n\n                        })                };                });            </script>        </div>"
     },
     "metadata": {},
     "output_type": "display_data"
    }
   ],
   "source": [
    "fig = px.scatter(cluster_df,\n",
    "                 x = cluster_df['jnct_id'],\n",
    "                 y = cluster_df['Score'],\n",
    "                 color = cluster_df['K_means_2'],\n",
    "                 hover_name = cluster_df.index,\n",
    "                 size = cluster_df['NumSeq'],\n",
    "                 color_continuous_scale=px.colors.sequential.Peach\n",
    "                 )\n",
    "\n",
    "fig.show()"
   ],
   "metadata": {
    "collapsed": false,
    "pycharm": {
     "name": "#%%\n"
    }
   }
  }
 ],
 "metadata": {
  "kernelspec": {
   "display_name": "Python 3",
   "language": "python",
   "name": "python3"
  },
  "language_info": {
   "codemirror_mode": {
    "name": "ipython",
    "version": 2
   },
   "file_extension": ".py",
   "mimetype": "text/x-python",
   "name": "python",
   "nbconvert_exporter": "python",
   "pygments_lexer": "ipython2",
   "version": "2.7.6"
  }
 },
 "nbformat": 4,
 "nbformat_minor": 0
}