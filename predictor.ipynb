{
 "cells": [
  {
   "cell_type": "code",
   "execution_count": 1,
   "metadata": {},
   "outputs": [],
   "source": [
    "import pandas as pd\n",
    "import numpy as np\n",
    "import warnings\n",
    "import matplotlib.pyplot as plt\n",
    "from tqdm import tqdm\n",
    "warnings.filterwarnings('ignore')\n",
    "# Import required libraries\n",
    "import pandas as pd\n",
    "import numpy as np \n",
    "import matplotlib.pyplot as plt\n",
    "import sklearn\n",
    "from sklearn.neural_network import MLPClassifier\n",
    "from sklearn.neural_network import MLPRegressor\n",
    "from sklearn.linear_model import SGDRegressor\n",
    "from sklearn.preprocessing import LabelEncoder\n",
    "\n",
    "# Import necessary modules\n",
    "from sklearn.model_selection import train_test_split\n",
    "from sklearn.metrics import mean_squared_error\n",
    "from math import sqrt\n",
    "from sklearn.metrics import r2_score"
   ]
  },
  {
   "cell_type": "code",
   "execution_count": 2,
   "metadata": {},
   "outputs": [],
   "source": [
    "pd.set_option('display.max_rows', 50)"
   ]
  },
  {
   "cell_type": "code",
   "execution_count": 3,
   "metadata": {},
   "outputs": [],
   "source": [
    "df = pd.read_csv('data_sorted.csv')"
   ]
  },
  {
   "cell_type": "code",
   "execution_count": 4,
   "metadata": {},
   "outputs": [],
   "source": [
    "#filtering out useless data\n",
    "df = df[df.state != 'unavailable']\n",
    "df = df[df.state != 'caution-Conflicting-Traffic']"
   ]
  },
  {
   "cell_type": "code",
   "execution_count": 5,
   "metadata": {},
   "outputs": [],
   "source": [
    "#grouping of signalgroups\n",
    "signalgroups = [d for _, d in df.groupby('id')]"
   ]
  },
  {
   "cell_type": "code",
   "execution_count": 6,
   "metadata": {},
   "outputs": [],
   "source": [
    "#resetting index\n",
    "signalgroups = [d.reset_index() for d in signalgroups]"
   ]
  },
  {
   "cell_type": "code",
   "execution_count": null,
   "metadata": {},
   "outputs": [],
   "source": []
  },
  {
   "cell_type": "code",
   "execution_count": 7,
   "metadata": {},
   "outputs": [],
   "source": [
    "def tijd(signalgroup):\n",
    "    #make a seperate indices column for later use\n",
    "    df1 = signalgroup.loc[(signalgroup.ischanged == True)]\n",
    "    df1[\"time_shift\"] = df1[\"state_timestamp\"].shift(-1).replace()\n",
    "    lijst = df1['time_shift'].to_list()\n",
    "    indeces = df1['time_shift'].index.to_list()\n",
    "    # iterate through all values per signalgroup\n",
    "    for value in range(len(lijst)-1):\n",
    "        begin = indeces[value]\n",
    "        end = indeces[value + 1]\n",
    "        signalgroup.loc[begin:end, 'time_s'] = lijst[value]\n",
    "    return signalgroup"
   ]
  },
  {
   "cell_type": "code",
   "execution_count": 8,
   "metadata": {},
   "outputs": [
    {
     "name": "stderr",
     "output_type": "stream",
     "text": [
      "100%|██████████| 42/42 [00:16<00:00,  2.48it/s]\n"
     ]
    }
   ],
   "source": [
    "\n",
    "id_list = []\n",
    "groups = []\n",
    "minmaxgroups = []\n",
    "for signalgroup in tqdm(signalgroups):\n",
    "    # make a list with all signal group IDs for later use\n",
    "    id_list.append(signalgroup['id'].to_list()[0])\n",
    "    \n",
    "    # put every signalgroup through the tijd() function\n",
    "    signalgroup['state'] = np.where( ( (signalgroup['state'] == 'permissive-clearance')| (signalgroup['state'] == 'caution-Conflicting-Traffic') | (signalgroup['state'] == 'protected-Movement-Allowed') | (signalgroup['state'] == 'permissive-Movement-Allowed') | (signalgroup['state'] == 'pre-Movement') | (signalgroup['state'] == 'protected-clearance') ), \"green\", \"red\")\n",
    "    signalgroup[\"ischanged\"] = signalgroup[\"state\"].shift(1, fill_value=signalgroup[\"state\"].head(1)) != signalgroup[\"state\"]\n",
    "    signalgroup = tijd(signalgroup)\n",
    "    minmax = signalgroup\n",
    "    minmaxgroups.append(minmax)\n",
    "    signalgroup = signalgroup.dropna(subset=['state_end_likely'])\n",
    "    #signalgroup = signalgroup.loc[~((signalgroup['ischanged']== False) & (signalgroup['state_end_likely']== pd.NaT))]\n",
    "    signalgroup[\"new_sequence\"] = signalgroup[\"time_s\"].shift(1) != signalgroup[\"time_s\"]\n",
    "    groups.append(signalgroup) \n",
    "\n"
   ]
  },
  {
   "cell_type": "code",
   "execution_count": 9,
   "metadata": {},
   "outputs": [
    {
     "data": {
      "text/html": [
       "<div>\n",
       "<style scoped>\n",
       "    .dataframe tbody tr th:only-of-type {\n",
       "        vertical-align: middle;\n",
       "    }\n",
       "\n",
       "    .dataframe tbody tr th {\n",
       "        vertical-align: top;\n",
       "    }\n",
       "\n",
       "    .dataframe thead th {\n",
       "        text-align: right;\n",
       "    }\n",
       "</style>\n",
       "<table border=\"1\" class=\"dataframe\">\n",
       "  <thead>\n",
       "    <tr style=\"text-align: right;\">\n",
       "      <th></th>\n",
       "      <th>level_0</th>\n",
       "      <th>index</th>\n",
       "      <th>received_timestamp</th>\n",
       "      <th>id</th>\n",
       "      <th>state_timestamp</th>\n",
       "      <th>state</th>\n",
       "      <th>state_end_min</th>\n",
       "      <th>state_end_max</th>\n",
       "      <th>state_end_likely</th>\n",
       "      <th>state_end_confidence</th>\n",
       "      <th>state_exceptional_condition</th>\n",
       "      <th>ischanged</th>\n",
       "      <th>time_s</th>\n",
       "      <th>new_sequence</th>\n",
       "    </tr>\n",
       "  </thead>\n",
       "  <tbody>\n",
       "  </tbody>\n",
       "</table>\n",
       "</div>"
      ],
      "text/plain": [
       "Empty DataFrame\n",
       "Columns: [level_0, index, received_timestamp, id, state_timestamp, state, state_end_min, state_end_max, state_end_likely, state_end_confidence, state_exceptional_condition, ischanged, time_s, new_sequence]\n",
       "Index: []"
      ]
     },
     "execution_count": 9,
     "metadata": {},
     "output_type": "execute_result"
    }
   ],
   "source": [
    "#resetting index\n",
    "groups = [d.reset_index() for d in groups]\n",
    "df = pd.concat(groups[:7], ignore_index=True)\n",
    "df.dropna()"
   ]
  },
  {
   "cell_type": "code",
   "execution_count": 10,
   "metadata": {},
   "outputs": [],
   "source": [
    "# define train and test set\n",
    "x = df[['received_timestamp', 'state_timestamp', 'state', 'id']]\n",
    "le = LabelEncoder()\n",
    "x['state'] = le.fit_transform(x['state'])\n",
    "x['id'] = le.fit_transform(x['id'])\n",
    "y = df['time_s']\n",
    "x_train, x_test, y_train, y_test = train_test_split(x, y)"
   ]
  },
  {
   "cell_type": "code",
   "execution_count": 11,
   "metadata": {},
   "outputs": [
    {
     "data": {
      "text/plain": [
       "MLPRegressor()"
      ]
     },
     "execution_count": 11,
     "metadata": {},
     "output_type": "execute_result"
    }
   ],
   "source": [
    "# train model\n",
    "mlp = MLPRegressor()\n",
    "mlp.fit(x_train, y_train)"
   ]
  },
  {
   "cell_type": "code",
   "execution_count": 12,
   "metadata": {},
   "outputs": [
    {
     "data": {
      "text/plain": [
       "0.9847173618625223"
      ]
     },
     "execution_count": 12,
     "metadata": {},
     "output_type": "execute_result"
    }
   ],
   "source": [
    "# get the predictions and score\n",
    "pred = mlp.predict(x_test)\n",
    "mlp.score(x_test, y_test)"
   ]
  },
  {
   "cell_type": "code",
   "execution_count": 13,
   "metadata": {},
   "outputs": [
    {
     "data": {
      "text/plain": [
       "received_timestamp    1654898003550\n",
       "state_timestamp       1654898003457\n",
       "state                             0\n",
       "id                                2\n",
       "Name: 7314, dtype: int64"
      ]
     },
     "execution_count": 13,
     "metadata": {},
     "output_type": "execute_result"
    }
   ],
   "source": [
    "# a random data point\n",
    "x_test.iloc[1]"
   ]
  },
  {
   "cell_type": "code",
   "execution_count": 14,
   "metadata": {},
   "outputs": [
    {
     "data": {
      "text/plain": [
       "1654898005312.0"
      ]
     },
     "execution_count": 14,
     "metadata": {},
     "output_type": "execute_result"
    }
   ],
   "source": [
    "# it's real time change\n",
    "y_test.iloc[1]"
   ]
  },
  {
   "cell_type": "code",
   "execution_count": 15,
   "metadata": {},
   "outputs": [
    {
     "data": {
      "text/plain": [
       "1654895851891.3115"
      ]
     },
     "execution_count": 15,
     "metadata": {},
     "output_type": "execute_result"
    }
   ],
   "source": [
    "# the predicted time change\n",
    "pred[1]"
   ]
  }
 ],
 "metadata": {
  "kernelspec": {
   "display_name": "Python 3",
   "language": "python",
   "name": "python3"
  },
  "language_info": {
   "codemirror_mode": {
    "name": "ipython",
    "version": 3
   },
   "file_extension": ".py",
   "mimetype": "text/x-python",
   "name": "python",
   "nbconvert_exporter": "python",
   "pygments_lexer": "ipython3",
   "version": "3.8.10"
  }
 },
 "nbformat": 4,
 "nbformat_minor": 5
}
